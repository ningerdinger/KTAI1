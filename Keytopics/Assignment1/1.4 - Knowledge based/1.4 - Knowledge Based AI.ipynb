{
 "cells": [
  {
   "cell_type": "markdown",
   "id": "497c5029-2760-4b27-914e-b2e0d67b6007",
   "metadata": {},
   "source": [
    "## Instructions\n",
    "* Read each cell and implement the **TODOs** sequentially. The markdown/text cells also contain instructions which you need to follow to get the whole notebook working.\n",
    "* Do not change the variable names unless the instructor allows you to.\n",
    "* Do not delete the **TODO** comment blocks.\n",
    "* Aside from the TODOs, there will be questions embedded in the notebook and a cell for you to provide your answer (denoted with A:). Answer all the markdown/text cells with **\"A: \"** on them. \n",
    "* You are expected to search how to some functions work on the Internet or via the docs. \n",
    "* You may add new cells for \"scrap work\".\n",
    "* The notebooks will undergo a \"Restart and Run All\" command, so make sure that your code is working properly.\n",
    "* You are expected to understand the data set loading and processing separately from this class.\n",
    "* You may not reproduce this notebook or share them to anyone."
   ]
  },
  {
   "cell_type": "markdown",
   "id": "a493935d-c9e8-4565-b7f7-1e5a097cdb3e",
   "metadata": {},
   "source": [
    "Place your answers to the questions directly inline on the same cell as **A:**\n",
    "\n",
    "For example:"
   ]
  },
  {
   "cell_type": "markdown",
   "id": "4f543bdc-050b-4570-83cd-42de57add7c7",
   "metadata": {},
   "source": [
    "<span style='color:red'>**Question 00:**</span> What is your favorite ice cream flavor?"
   ]
  },
  {
   "cell_type": "markdown",
   "id": "4813f195-d84a-49e9-8639-961c070fff35",
   "metadata": {},
   "source": [
    "<span style='color:red'>**A00:**</span> My favorite flavor ice cream flavor is pistachio."
   ]
  },
  {
   "cell_type": "markdown",
   "id": "b1a0e5a2-e503-4ff3-ad72-02481c808c18",
   "metadata": {},
   "source": [
    "# Assignment 1.4 - Knowledge Based AI Notebook \n",
    "In this notebook, you will be experimenting on Bayesian networks on the Dutch census dataset and implementing a simple sudoku solver using logic rules."
   ]
  },
  {
   "cell_type": "markdown",
   "id": "a7808fb8-8ce0-4039-bfec-6e29f812e2d6",
   "metadata": {},
   "source": [
    "# Bayesian Networks"
   ]
  },
  {
   "cell_type": "markdown",
   "id": "a344975d-9f8e-43a9-8d91-6693b441dad7",
   "metadata": {},
   "source": [
    "For this case study, we are going to look at Bayesian networks. \n",
    "A Bayesian network is a directed acyclic graph that represent the dependency structure of a set of variables. \n",
    "We can use this model to see how changes in one variable affect one another and perform inference queries."
   ]
  },
  {
   "cell_type": "code",
   "execution_count": null,
   "id": "7f55a2a6-cb09-4b84-882b-97326335994a",
   "metadata": {},
   "outputs": [],
   "source": [
    "import numpy as np\n",
    "import pandas as pd\n",
    "import os\n",
    "from pathlib import Path\n",
    "import matplotlib.pyplot as plt\n",
    "import pyAgrum as gum\n",
    "import pyAgrum.lib.notebook as gnb\n",
    "import pyAgrum.causal as csl\n",
    "import pyAgrum.causal.notebook as cslnb\n",
    "import scipy.stats\n",
    "from sklearn import preprocessing"
   ]
  },
  {
   "cell_type": "markdown",
   "id": "6bbf0c69-554d-4a62-9d15-1ac3ed53230a",
   "metadata": {},
   "source": [
    "Let's start first with loading the dataset that we are gonna be using."
   ]
  },
  {
   "cell_type": "markdown",
   "id": "4396ac2f-e436-4276-b20e-db2756921e97",
   "metadata": {},
   "source": [
    "### The Dutch Virtual Census of 2001 dataset\n",
    "https://microdata.worldbank.org/index.php/catalog/2102/study-description\n",
    "\n",
    "The dataset includes 60,420 samples where each sample is described by 12 variables. The table below shows an overview of the variables.\n",
    "Note that this dataset is a pre-processed version of the original where the range of values have already been discretized (converted to a small set of categories) for simplicity."
   ]
  },
  {
   "cell_type": "markdown",
   "id": "05527138-aa81-472f-ae42-d6e0cd186588",
   "metadata": {},
   "source": [
    "| Attributes           | Type        | Values                         | Description                                                    |\n",
    "| -------------------- | ----------- | ------------------------------ | -------------------------------------------------------------- |\n",
    "| sex                  | Binary      | {0: Female, 1: Male}                  | The biological sex of the person                               |\n",
    "| age                  | Categorical | 12                             | The age group of the person (0–4, 5–9, etc.)                   |\n",
    "| household_position   | Categorical | 8                              | The relationship to household head (spouse, child, etc.)       |\n",
    "| household_size       | Categorical | 6                              | The size of the household the person belongs to                |\n",
    "| prev_residence_place | Binary      | {0: non-Netherlands, 1: Netherlands} | The place of the person's residence prior to the Census        |\n",
    "| citizenship          | Categorical | 3                              | The person's citizenship status                                |\n",
    "| country_birth        | Categorical | 3                              | Whether the person was born in the Netherlands or elsewhere    |\n",
    "| edu_level            | Categorical | 6                              | The person's level of educational attainment                   |\n",
    "| economic_status      | Categorical | 3                              | The person's economic status (class of worker)                 |\n",
    "| cur_eco_activity     | Categorical | 12                             | The current economic activity                                  |\n",
    "| marital_status       | Categorical | 4                              | The person's current marital status according to law or custom |\n",
    "| occupation           | Binary      | {0: low-level, 1: high-level}                          |  The person's occupation (0: low-level, 1: high-level)         |"
   ]
  },
  {
   "cell_type": "code",
   "execution_count": 48,
   "id": "f012d082-a7b8-45f7-a535-2e42ab07b5ad",
   "metadata": {},
   "outputs": [
    {
     "data": {
      "text/html": [
       "<div>\n",
       "<style scoped>\n",
       "    .dataframe tbody tr th:only-of-type {\n",
       "        vertical-align: middle;\n",
       "    }\n",
       "\n",
       "    .dataframe tbody tr th {\n",
       "        vertical-align: top;\n",
       "    }\n",
       "\n",
       "    .dataframe thead th {\n",
       "        text-align: right;\n",
       "    }\n",
       "</style>\n",
       "<table border=\"1\" class=\"dataframe\">\n",
       "  <thead>\n",
       "    <tr style=\"text-align: right;\">\n",
       "      <th></th>\n",
       "      <th>sex</th>\n",
       "      <th>age</th>\n",
       "      <th>household_position</th>\n",
       "      <th>household_size</th>\n",
       "      <th>prev_residence_place</th>\n",
       "      <th>citizenship</th>\n",
       "      <th>country_birth</th>\n",
       "      <th>edu_level</th>\n",
       "      <th>economic_status</th>\n",
       "      <th>cur_eco_activity</th>\n",
       "      <th>marital_status</th>\n",
       "      <th>occupation</th>\n",
       "    </tr>\n",
       "  </thead>\n",
       "  <tbody>\n",
       "    <tr>\n",
       "      <th>0</th>\n",
       "      <td>1</td>\n",
       "      <td>6</td>\n",
       "      <td>3</td>\n",
       "      <td>1</td>\n",
       "      <td>1</td>\n",
       "      <td>1</td>\n",
       "      <td>1</td>\n",
       "      <td>5</td>\n",
       "      <td>0</td>\n",
       "      <td>7</td>\n",
       "      <td>1</td>\n",
       "      <td>1</td>\n",
       "    </tr>\n",
       "    <tr>\n",
       "      <th>1</th>\n",
       "      <td>0</td>\n",
       "      <td>10</td>\n",
       "      <td>2</td>\n",
       "      <td>2</td>\n",
       "      <td>1</td>\n",
       "      <td>1</td>\n",
       "      <td>1</td>\n",
       "      <td>2</td>\n",
       "      <td>0</td>\n",
       "      <td>1</td>\n",
       "      <td>2</td>\n",
       "      <td>0</td>\n",
       "    </tr>\n",
       "    <tr>\n",
       "      <th>2</th>\n",
       "      <td>1</td>\n",
       "      <td>8</td>\n",
       "      <td>2</td>\n",
       "      <td>2</td>\n",
       "      <td>1</td>\n",
       "      <td>1</td>\n",
       "      <td>1</td>\n",
       "      <td>2</td>\n",
       "      <td>0</td>\n",
       "      <td>1</td>\n",
       "      <td>2</td>\n",
       "      <td>1</td>\n",
       "    </tr>\n",
       "    <tr>\n",
       "      <th>3</th>\n",
       "      <td>1</td>\n",
       "      <td>12</td>\n",
       "      <td>1</td>\n",
       "      <td>1</td>\n",
       "      <td>1</td>\n",
       "      <td>1</td>\n",
       "      <td>1</td>\n",
       "      <td>1</td>\n",
       "      <td>0</td>\n",
       "      <td>9</td>\n",
       "      <td>2</td>\n",
       "      <td>0</td>\n",
       "    </tr>\n",
       "    <tr>\n",
       "      <th>4</th>\n",
       "      <td>0</td>\n",
       "      <td>4</td>\n",
       "      <td>0</td>\n",
       "      <td>3</td>\n",
       "      <td>1</td>\n",
       "      <td>1</td>\n",
       "      <td>1</td>\n",
       "      <td>2</td>\n",
       "      <td>0</td>\n",
       "      <td>10</td>\n",
       "      <td>1</td>\n",
       "      <td>0</td>\n",
       "    </tr>\n",
       "  </tbody>\n",
       "</table>\n",
       "</div>"
      ],
      "text/plain": [
       "   sex  age  household_position  household_size  prev_residence_place  \\\n",
       "0    1    6                   3               1                     1   \n",
       "1    0   10                   2               2                     1   \n",
       "2    1    8                   2               2                     1   \n",
       "3    1   12                   1               1                     1   \n",
       "4    0    4                   0               3                     1   \n",
       "\n",
       "   citizenship  country_birth  edu_level  economic_status  cur_eco_activity  \\\n",
       "0            1              1          5                0                 7   \n",
       "1            1              1          2                0                 1   \n",
       "2            1              1          2                0                 1   \n",
       "3            1              1          1                0                 9   \n",
       "4            1              1          2                0                10   \n",
       "\n",
       "   marital_status  occupation  \n",
       "0               1           1  \n",
       "1               2           0  \n",
       "2               2           1  \n",
       "3               2           0  \n",
       "4               1           0  "
      ]
     },
     "execution_count": 48,
     "metadata": {},
     "output_type": "execute_result"
    }
   ],
   "source": [
    "df = pd.read_csv(\"dutch_preprocessed.csv\")\n",
    "df.head()"
   ]
  },
  {
   "cell_type": "markdown",
   "id": "bea6595f-2172-4ef3-ab30-2366face4dec",
   "metadata": {},
   "source": [
    "## Defining graph structure"
   ]
  },
  {
   "cell_type": "markdown",
   "id": "8f370ab8-f540-421c-aa40-3989ce0fc8d9",
   "metadata": {},
   "source": [
    "One way to incorporate domain knowledge is by defining structure of this dependency graph.\n",
    "The structure of the graph would impose certain constraints and determine how the different variables affect one another."
   ]
  },
  {
   "cell_type": "markdown",
   "id": "161bea93-cfea-485c-9aae-da7c229190a4",
   "metadata": {},
   "source": [
    "Since we do not know the dependency graph for this dataset, we can try to first infer it from data."
   ]
  },
  {
   "cell_type": "markdown",
   "id": "6f6f47a4-8352-4e89-97d1-73450bb8c8e3",
   "metadata": {},
   "source": [
    "<span style='color:red'>**TODO-01:**</span> The pyAgrum library has a tutorial below on how to learn the structure from data. Follow this tutorial and learn a plausible structure for this dutch census dataset.\n",
    "\n",
    "https://pyagrum.readthedocs.io/en/1.15.1/notebooks/31-Learning_structuralLearning.html\n",
    "\n",
    "Don't forget to visualize the graph. You can add as many cells below as necessary."
   ]
  },
  {
   "cell_type": "code",
   "execution_count": 49,
   "id": "0feea5a1-720b-4aa4-9346-afdc562d5422",
   "metadata": {},
   "outputs": [
    {
     "data": {
      "image/svg+xml": [
       "<svg xmlns=\"http://www.w3.org/2000/svg\" xmlns:xlink=\"http://www.w3.org/1999/xlink\" width=\"360pt\" height=\"252pt\" viewBox=\"0.00 0.00 360.00 251.98\">\n",
       "<g id=\"graph0\" class=\"graph\" transform=\"scale(0.623702 0.623702) rotate(0) translate(4 400)\">\n",
       "<title>G</title>\n",
       "<!-- economic_status -->\n",
       "<g id=\"node1\" class=\"node\">\n",
       "<title>economic_status</title>\n",
       "<g id=\"a_node1\"><a xlink:title=\"(8) economic_status\">\n",
       "<ellipse fill=\"#404040\" stroke=\"#4a4a4a\" cx=\"261.12\" cy=\"-378\" rx=\"72.85\" ry=\"18\"/>\n",
       "<text text-anchor=\"middle\" x=\"261.12\" y=\"-372.95\" font-family=\"Times New Roman,serif\" font-size=\"14.00\" fill=\"white\">economic_status</text>\n",
       "</a>\n",
       "</g>\n",
       "</g>\n",
       "<!-- occupation -->\n",
       "<g id=\"node4\" class=\"node\">\n",
       "<title>occupation</title>\n",
       "<g id=\"a_node4\"><a xlink:title=\"(11) occupation\">\n",
       "<ellipse fill=\"#404040\" stroke=\"#4a4a4a\" cx=\"340.12\" cy=\"-306\" rx=\"51.35\" ry=\"18\"/>\n",
       "<text text-anchor=\"middle\" x=\"340.12\" y=\"-300.95\" font-family=\"Times New Roman,serif\" font-size=\"14.00\" fill=\"white\">occupation</text>\n",
       "</a>\n",
       "</g>\n",
       "</g>\n",
       "<!-- economic_status&#45;&gt;occupation -->\n",
       "<g id=\"edge18\" class=\"edge\">\n",
       "<title>economic_status-&gt;occupation</title>\n",
       "<g id=\"a_edge18\"><a xlink:title=\"8 → 11\">\n",
       "<path fill=\"none\" stroke=\"#4a4a4a\" d=\"M279.84,-360.41C289.85,-351.54 302.35,-340.47 313.37,-330.71\"/>\n",
       "<polygon fill=\"#4a4a4a\" stroke=\"#4a4a4a\" points=\"315.51,-333.48 320.68,-324.23 310.87,-328.24 315.51,-333.48\"/>\n",
       "</a>\n",
       "</g>\n",
       "</g>\n",
       "<!-- age -->\n",
       "<g id=\"node6\" class=\"node\">\n",
       "<title>age</title>\n",
       "<g id=\"a_node6\"><a xlink:title=\"(1) age\">\n",
       "<ellipse fill=\"#404040\" stroke=\"#4a4a4a\" cx=\"206.12\" cy=\"-234\" rx=\"27\" ry=\"18\"/>\n",
       "<text text-anchor=\"middle\" x=\"206.12\" y=\"-228.95\" font-family=\"Times New Roman,serif\" font-size=\"14.00\" fill=\"white\">age</text>\n",
       "</a>\n",
       "</g>\n",
       "</g>\n",
       "<!-- economic_status&#45;&gt;age -->\n",
       "<g id=\"edge6\" class=\"edge\">\n",
       "<title>economic_status-&gt;age</title>\n",
       "<g id=\"a_edge6\"><a xlink:title=\"8 → 1\">\n",
       "<path fill=\"none\" stroke=\"#4a4a4a\" d=\"M254.38,-359.59C244.96,-335.27 227.77,-290.89 216.65,-262.19\"/>\n",
       "<polygon fill=\"#4a4a4a\" stroke=\"#4a4a4a\" points=\"220,-261.14 213.13,-253.08 213.48,-263.67 220,-261.14\"/>\n",
       "</a>\n",
       "</g>\n",
       "</g>\n",
       "<!-- cur_eco_activity -->\n",
       "<g id=\"node12\" class=\"node\">\n",
       "<title>cur_eco_activity</title>\n",
       "<g id=\"a_node12\"><a xlink:title=\"(9) cur_eco_activity\">\n",
       "<ellipse fill=\"#404040\" stroke=\"#4a4a4a\" cx=\"366.12\" cy=\"-162\" rx=\"72.34\" ry=\"18\"/>\n",
       "<text text-anchor=\"middle\" x=\"366.12\" y=\"-156.95\" font-family=\"Times New Roman,serif\" font-size=\"14.00\" fill=\"white\">cur_eco_activity</text>\n",
       "</a>\n",
       "</g>\n",
       "</g>\n",
       "<!-- economic_status&#45;&gt;cur_eco_activity -->\n",
       "<g id=\"edge12\" class=\"edge\">\n",
       "<title>economic_status-&gt;cur_eco_activity</title>\n",
       "<g id=\"a_edge12\"><a xlink:title=\"8 → 9\">\n",
       "<path fill=\"none\" stroke=\"#4a4a4a\" d=\"M263.5,-359.58C266.3,-341.38 271.66,-312.16 280.12,-288 291.95,-254.24 295.63,-245.33 316.12,-216 323.08,-206.05 331.85,-196.1 340.1,-187.57\"/>\n",
       "<polygon fill=\"#4a4a4a\" stroke=\"#4a4a4a\" points=\"342.44,-190.17 347.01,-180.62 337.48,-185.24 342.44,-190.17\"/>\n",
       "</a>\n",
       "</g>\n",
       "</g>\n",
       "<!-- household_size -->\n",
       "<g id=\"node2\" class=\"node\">\n",
       "<title>household_size</title>\n",
       "<g id=\"a_node2\"><a xlink:title=\"(3) household_size\">\n",
       "<ellipse fill=\"#404040\" stroke=\"#4a4a4a\" cx=\"208.12\" cy=\"-162\" rx=\"67.73\" ry=\"18\"/>\n",
       "<text text-anchor=\"middle\" x=\"208.12\" y=\"-156.95\" font-family=\"Times New Roman,serif\" font-size=\"14.00\" fill=\"white\">household_size</text>\n",
       "</a>\n",
       "</g>\n",
       "</g>\n",
       "<!-- household_position -->\n",
       "<g id=\"node3\" class=\"node\">\n",
       "<title>household_position</title>\n",
       "<g id=\"a_node3\"><a xlink:title=\"(2) household_position\">\n",
       "<ellipse fill=\"#404040\" stroke=\"#4a4a4a\" cx=\"149.12\" cy=\"-90\" rx=\"83.08\" ry=\"18\"/>\n",
       "<text text-anchor=\"middle\" x=\"149.12\" y=\"-84.95\" font-family=\"Times New Roman,serif\" font-size=\"14.00\" fill=\"white\">household_position</text>\n",
       "</a>\n",
       "</g>\n",
       "</g>\n",
       "<!-- household_size&#45;&gt;household_position -->\n",
       "<g id=\"edge15\" class=\"edge\">\n",
       "<title>household_size-&gt;household_position</title>\n",
       "<g id=\"a_edge15\"><a xlink:title=\"3 → 2\">\n",
       "<path fill=\"none\" stroke=\"#4a4a4a\" d=\"M193.84,-144.05C186.88,-135.8 178.37,-125.7 170.65,-116.54\"/>\n",
       "<polygon fill=\"#4a4a4a\" stroke=\"#4a4a4a\" points=\"173.37,-114.34 164.25,-108.95 168.02,-118.85 173.37,-114.34\"/>\n",
       "</a>\n",
       "</g>\n",
       "</g>\n",
       "<!-- prev_residence_place -->\n",
       "<g id=\"node7\" class=\"node\">\n",
       "<title>prev_residence_place</title>\n",
       "<g id=\"a_node7\"><a xlink:title=\"(4) prev_residence_place\">\n",
       "<ellipse fill=\"#404040\" stroke=\"#4a4a4a\" cx=\"247.12\" cy=\"-18\" rx=\"90.76\" ry=\"18\"/>\n",
       "<text text-anchor=\"middle\" x=\"247.12\" y=\"-12.95\" font-family=\"Times New Roman,serif\" font-size=\"14.00\" fill=\"white\">prev_residence_place</text>\n",
       "</a>\n",
       "</g>\n",
       "</g>\n",
       "<!-- household_size&#45;&gt;prev_residence_place -->\n",
       "<g id=\"edge4\" class=\"edge\">\n",
       "<title>household_size-&gt;prev_residence_place</title>\n",
       "<g id=\"a_edge4\"><a xlink:title=\"3 → 4\">\n",
       "<path fill=\"none\" stroke=\"#4a4a4a\" d=\"M221.77,-143.93C228.87,-134.04 236.93,-121 241.12,-108 247.42,-88.48 248.81,-65.34 248.68,-47.55\"/>\n",
       "<polygon fill=\"#4a4a4a\" stroke=\"#4a4a4a\" points=\"252.18,-47.61 248.43,-37.7 245.19,-47.79 252.18,-47.61\"/>\n",
       "</a>\n",
       "</g>\n",
       "</g>\n",
       "<!-- marital_status -->\n",
       "<g id=\"node5\" class=\"node\">\n",
       "<title>marital_status</title>\n",
       "<g id=\"a_node5\"><a xlink:title=\"(10) marital_status\">\n",
       "<ellipse fill=\"#404040\" stroke=\"#4a4a4a\" cx=\"63.12\" cy=\"-18\" rx=\"63.12\" ry=\"18\"/>\n",
       "<text text-anchor=\"middle\" x=\"63.12\" y=\"-12.95\" font-family=\"Times New Roman,serif\" font-size=\"14.00\" fill=\"white\">marital_status</text>\n",
       "</a>\n",
       "</g>\n",
       "</g>\n",
       "<!-- household_position&#45;&gt;marital_status -->\n",
       "<g id=\"edge8\" class=\"edge\">\n",
       "<title>household_position-&gt;marital_status</title>\n",
       "<g id=\"a_edge8\"><a xlink:title=\"2 → 10\">\n",
       "<path fill=\"none\" stroke=\"#4a4a4a\" d=\"M128.74,-72.41C117.82,-63.52 104.17,-52.41 92.16,-42.63\"/>\n",
       "<polygon fill=\"#4a4a4a\" stroke=\"#4a4a4a\" points=\"94.5,-40.02 84.53,-36.43 90.08,-45.45 94.5,-40.02\"/>\n",
       "</a>\n",
       "</g>\n",
       "</g>\n",
       "<!-- household_position&#45;&gt;prev_residence_place -->\n",
       "<g id=\"edge2\" class=\"edge\">\n",
       "<title>household_position-&gt;prev_residence_place</title>\n",
       "<g id=\"a_edge2\"><a xlink:title=\"2 → 4\">\n",
       "<path fill=\"none\" stroke=\"#4a4a4a\" d=\"M172.35,-72.41C184.95,-63.41 200.73,-52.14 214.54,-42.27\"/>\n",
       "<polygon fill=\"#4a4a4a\" stroke=\"#4a4a4a\" points=\"216.39,-45.25 222.49,-36.59 212.32,-39.56 216.39,-45.25\"/>\n",
       "</a>\n",
       "</g>\n",
       "</g>\n",
       "<!-- occupation&#45;&gt;age -->\n",
       "<g id=\"edge1\" class=\"edge\">\n",
       "<title>occupation-&gt;age</title>\n",
       "<g id=\"a_edge1\"><a xlink:title=\"11 → 1\">\n",
       "<path fill=\"none\" stroke=\"#4a4a4a\" d=\"M312.36,-290.5C290.39,-279.02 259.72,-263 236.99,-251.12\"/>\n",
       "<polygon fill=\"#4a4a4a\" stroke=\"#4a4a4a\" points=\"238.67,-248.05 228.19,-246.53 235.43,-254.26 238.67,-248.05\"/>\n",
       "</a>\n",
       "</g>\n",
       "</g>\n",
       "<!-- sex -->\n",
       "<g id=\"node8\" class=\"node\">\n",
       "<title>sex</title>\n",
       "<g id=\"a_node8\"><a xlink:title=\"(0) sex\">\n",
       "<ellipse fill=\"#404040\" stroke=\"#4a4a4a\" cx=\"352.12\" cy=\"-234\" rx=\"27\" ry=\"18\"/>\n",
       "<text text-anchor=\"middle\" x=\"352.12\" y=\"-228.95\" font-family=\"Times New Roman,serif\" font-size=\"14.00\" fill=\"white\">sex</text>\n",
       "</a>\n",
       "</g>\n",
       "</g>\n",
       "<!-- occupation&#45;&gt;sex -->\n",
       "<g id=\"edge7\" class=\"edge\">\n",
       "<title>occupation-&gt;sex</title>\n",
       "<g id=\"a_edge7\"><a xlink:title=\"11 → 0\">\n",
       "<path fill=\"none\" stroke=\"#4a4a4a\" d=\"M343.09,-287.7C344.35,-280.32 345.86,-271.52 347.28,-263.25\"/>\n",
       "<polygon fill=\"#4a4a4a\" stroke=\"#4a4a4a\" points=\"350.7,-264.04 348.94,-253.6 343.8,-262.86 350.7,-264.04\"/>\n",
       "</a>\n",
       "</g>\n",
       "</g>\n",
       "<!-- country_birth -->\n",
       "<g id=\"node10\" class=\"node\">\n",
       "<title>country_birth</title>\n",
       "<g id=\"a_node10\"><a xlink:title=\"(6) country_birth\">\n",
       "<ellipse fill=\"#404040\" stroke=\"#4a4a4a\" cx=\"508.12\" cy=\"-234\" rx=\"61.08\" ry=\"18\"/>\n",
       "<text text-anchor=\"middle\" x=\"508.12\" y=\"-228.95\" font-family=\"Times New Roman,serif\" font-size=\"14.00\" fill=\"white\">country_birth</text>\n",
       "</a>\n",
       "</g>\n",
       "</g>\n",
       "<!-- occupation&#45;&gt;country_birth -->\n",
       "<g id=\"edge10\" class=\"edge\">\n",
       "<title>occupation-&gt;country_birth</title>\n",
       "<g id=\"a_edge10\"><a xlink:title=\"11 → 6\">\n",
       "<path fill=\"none\" stroke=\"#4a4a4a\" d=\"M372.12,-291.67C397.95,-280.91 434.6,-265.63 463.35,-253.66\"/>\n",
       "<polygon fill=\"#4a4a4a\" stroke=\"#4a4a4a\" points=\"464.66,-256.9 472.54,-249.83 461.96,-250.44 464.66,-256.9\"/>\n",
       "</a>\n",
       "</g>\n",
       "</g>\n",
       "<!-- age&#45;&gt;household_size -->\n",
       "<g id=\"edge17\" class=\"edge\">\n",
       "<title>age-&gt;household_size</title>\n",
       "<g id=\"a_edge17\"><a xlink:title=\"1 → 3\">\n",
       "<path fill=\"none\" stroke=\"#4a4a4a\" d=\"M206.62,-215.7C206.83,-208.41 207.07,-199.73 207.31,-191.54\"/>\n",
       "<polygon fill=\"#4a4a4a\" stroke=\"#4a4a4a\" points=\"210.8,-191.71 207.59,-181.62 203.81,-191.51 210.8,-191.71\"/>\n",
       "</a>\n",
       "</g>\n",
       "</g>\n",
       "<!-- age&#45;&gt;household_position -->\n",
       "<g id=\"edge3\" class=\"edge\">\n",
       "<title>age-&gt;household_position</title>\n",
       "<g id=\"a_edge3\"><a xlink:title=\"1 → 2\">\n",
       "<path fill=\"none\" stroke=\"#4a4a4a\" d=\"M183.13,-223.85C165.35,-215.39 141.97,-200.95 131.12,-180 121.23,-160.9 127,-136.87 134.54,-118.6\"/>\n",
       "<polygon fill=\"#4a4a4a\" stroke=\"#4a4a4a\" points=\"137.63,-120.26 138.59,-109.7 131.26,-117.36 137.63,-120.26\"/>\n",
       "</a>\n",
       "</g>\n",
       "</g>\n",
       "<!-- age&#45;&gt;marital_status -->\n",
       "<g id=\"edge14\" class=\"edge\">\n",
       "<title>age-&gt;marital_status</title>\n",
       "<g id=\"a_edge14\"><a xlink:title=\"1 → 10\">\n",
       "<path fill=\"none\" stroke=\"#4a4a4a\" d=\"M183.85,-223.22C148.11,-206.04 79.67,-166.62 57.12,-108 49.72,-88.77 51.64,-65.48 55.18,-47.55\"/>\n",
       "<polygon fill=\"#4a4a4a\" stroke=\"#4a4a4a\" points=\"58.58,-48.38 57.4,-37.85 51.76,-46.82 58.58,-48.38\"/>\n",
       "</a>\n",
       "</g>\n",
       "</g>\n",
       "<!-- sex&#45;&gt;cur_eco_activity -->\n",
       "<g id=\"edge9\" class=\"edge\">\n",
       "<title>sex-&gt;cur_eco_activity</title>\n",
       "<g id=\"a_edge9\"><a xlink:title=\"0 → 9\">\n",
       "<path fill=\"none\" stroke=\"#4a4a4a\" d=\"M355.58,-215.7C357.06,-208.32 358.82,-199.52 360.47,-191.25\"/>\n",
       "<polygon fill=\"#4a4a4a\" stroke=\"#4a4a4a\" points=\"363.88,-192.08 362.41,-181.59 357.01,-190.71 363.88,-192.08\"/>\n",
       "</a>\n",
       "</g>\n",
       "</g>\n",
       "<!-- edu_level -->\n",
       "<g id=\"node9\" class=\"node\">\n",
       "<title>edu_level</title>\n",
       "<g id=\"a_node9\"><a xlink:title=\"(7) edu_level\">\n",
       "<ellipse fill=\"#404040\" stroke=\"#4a4a4a\" cx=\"419.12\" cy=\"-378\" rx=\"46.75\" ry=\"18\"/>\n",
       "<text text-anchor=\"middle\" x=\"419.12\" y=\"-372.95\" font-family=\"Times New Roman,serif\" font-size=\"14.00\" fill=\"white\">edu_level</text>\n",
       "</a>\n",
       "</g>\n",
       "</g>\n",
       "<!-- edu_level&#45;&gt;occupation -->\n",
       "<g id=\"edge16\" class=\"edge\">\n",
       "<title>edu_level-&gt;occupation</title>\n",
       "<g id=\"a_edge16\"><a xlink:title=\"7 → 11\">\n",
       "<path fill=\"none\" stroke=\"#4a4a4a\" d=\"M401.2,-361.12C390.97,-352.05 377.95,-340.52 366.57,-330.43\"/>\n",
       "<polygon fill=\"#4a4a4a\" stroke=\"#4a4a4a\" points=\"369.19,-328.08 359.38,-324.07 364.55,-333.32 369.19,-328.08\"/>\n",
       "</a>\n",
       "</g>\n",
       "</g>\n",
       "<!-- edu_level&#45;&gt;country_birth -->\n",
       "<g id=\"edge13\" class=\"edge\">\n",
       "<title>edu_level-&gt;country_birth</title>\n",
       "<g id=\"a_edge13\"><a xlink:title=\"7 → 6\">\n",
       "<path fill=\"none\" stroke=\"#4a4a4a\" d=\"M429.68,-360.15C445,-335.71 473.54,-290.17 491.65,-261.29\"/>\n",
       "<polygon fill=\"#4a4a4a\" stroke=\"#4a4a4a\" points=\"494.43,-263.44 496.77,-253.11 488.5,-259.72 494.43,-263.44\"/>\n",
       "</a>\n",
       "</g>\n",
       "</g>\n",
       "<!-- edu_level&#45;&gt;cur_eco_activity -->\n",
       "<g id=\"edge11\" class=\"edge\">\n",
       "<title>edu_level-&gt;cur_eco_activity</title>\n",
       "<g id=\"a_edge11\"><a xlink:title=\"7 → 9\">\n",
       "<path fill=\"none\" stroke=\"#4a4a4a\" d=\"M416.98,-359.8C413.02,-330.06 403.52,-267.25 388.12,-216 385.6,-207.6 382.21,-198.72 378.85,-190.67\"/>\n",
       "<polygon fill=\"#4a4a4a\" stroke=\"#4a4a4a\" points=\"382.16,-189.51 374.97,-181.73 375.74,-192.3 382.16,-189.51\"/>\n",
       "</a>\n",
       "</g>\n",
       "</g>\n",
       "<!-- citizenship -->\n",
       "<g id=\"node11\" class=\"node\">\n",
       "<title>citizenship</title>\n",
       "<g id=\"a_node11\"><a xlink:title=\"(5) citizenship\">\n",
       "<ellipse fill=\"#404040\" stroke=\"#4a4a4a\" cx=\"508.12\" cy=\"-162\" rx=\"50.84\" ry=\"18\"/>\n",
       "<text text-anchor=\"middle\" x=\"508.12\" y=\"-156.95\" font-family=\"Times New Roman,serif\" font-size=\"14.00\" fill=\"white\">citizenship</text>\n",
       "</a>\n",
       "</g>\n",
       "</g>\n",
       "<!-- country_birth&#45;&gt;citizenship -->\n",
       "<g id=\"edge5\" class=\"edge\">\n",
       "<title>country_birth-&gt;citizenship</title>\n",
       "<g id=\"a_edge5\"><a xlink:title=\"6 → 5\">\n",
       "<path fill=\"none\" stroke=\"#4a4a4a\" d=\"M508.12,-215.7C508.12,-208.41 508.12,-199.73 508.12,-191.54\"/>\n",
       "<polygon fill=\"#4a4a4a\" stroke=\"#4a4a4a\" points=\"511.62,-191.62 508.12,-181.62 504.62,-191.62 511.62,-191.62\"/>\n",
       "</a>\n",
       "</g>\n",
       "</g>\n",
       "</g>\n",
       "</svg>"
      ],
      "text/plain": [
       "<IPython.core.display.SVG object>"
      ]
     },
     "metadata": {},
     "output_type": "display_data"
    }
   ],
   "source": [
    "# Load your dataset\n",
    "data = pd.read_csv('dutch_preprocessed.csv')\n",
    "\n",
    "# If the data is already preprocessed, you can skip this step\n",
    "# Preprocess your data (example: encoding categorical variables)\n",
    "# data_encoded = pd.get_dummies(data) # Uncomment if preprocessing is needed\n",
    "\n",
    "# Learn the structure of your data\n",
    "learner = gum.BNLearner(data)\n",
    "bn = learner.learnBN()\n",
    "\n",
    "# Visualize the resulting graph\n",
    "gnb.showBN(bn)"
   ]
  },
  {
   "cell_type": "markdown",
   "id": "4cd32f28-876f-4617-9a0e-f7ced52b58d0",
   "metadata": {},
   "source": [
    "<span style='color:red'>**Question 01:**</span> Do the relationships learned only from the data make sense? Why or why not? Explain your answer."
   ]
  },
  {
   "cell_type": "markdown",
   "id": "37e59b28-1f3c-4fe3-af0f-e8352d371d59",
   "metadata": {},
   "source": [
    "<span style='color:red'>**A01:**</span>"
   ]
  },
  {
   "cell_type": "markdown",
   "id": "8e507e71-91ee-4243-9477-11daffdc866f",
   "metadata": {},
   "source": [
    "<span style='color:red'>**Question 02:**</span> If you were going to modify certain relationships, which ones would you change? How will your graph look like?\n"
   ]
  },
  {
   "cell_type": "markdown",
   "id": "c5370120-cb5f-4e07-93b6-e65bf367c6d4",
   "metadata": {},
   "source": [
    "<span style='color:red'>**A02:**</span>"
   ]
  },
  {
   "cell_type": "markdown",
   "id": "26b829b7-f16f-4eed-936b-ef19def902b7",
   "metadata": {},
   "source": [
    "<span style='color:red'>**TODO-02:**</span> Incorporate the modifications to the graph to align with your domain knowledge.\n",
    "\n",
    "You can incorporate this in the graph learning by adding mandatory arcs.\n",
    "\n",
    "For example, \"I know that smoking causes cancer\"\n",
    "\n",
    "``learner.addMandatoryArc(\"smoking\",\"lung_cancer\") # smoking->lung_cancer``\n",
    "\n",
    "Ofcourse there's its opposite where you add forbidden arcs. `learner.addForbiddenArc()`\n",
    "\n",
    "You can optionally define the entire graph yourself using `addArc` function.\n",
    "\n",
    "Don't forget to visualize the graph. You can add as many cells below as necessary."
   ]
  },
  {
   "cell_type": "code",
   "execution_count": 50,
   "id": "ba0bcb8c-f4e5-4b4f-89bb-24279711f526",
   "metadata": {},
   "outputs": [
    {
     "data": {
      "image/svg+xml": [
       "<svg xmlns=\"http://www.w3.org/2000/svg\" xmlns:xlink=\"http://www.w3.org/1999/xlink\" width=\"360pt\" height=\"239pt\" viewBox=\"0.00 0.00 360.00 238.83\">\n",
       "<g id=\"graph0\" class=\"graph\" transform=\"scale(0.591169 0.591169) rotate(0) translate(4 400)\">\n",
       "<title>G</title>\n",
       "<!-- economic_status -->\n",
       "<g id=\"node1\" class=\"node\">\n",
       "<title>economic_status</title>\n",
       "<g id=\"a_node1\"><a xlink:title=\"(8) economic_status\">\n",
       "<ellipse fill=\"#404040\" stroke=\"#4a4a4a\" cx=\"238.12\" cy=\"-378\" rx=\"72.85\" ry=\"18\"/>\n",
       "<text text-anchor=\"middle\" x=\"238.12\" y=\"-372.95\" font-family=\"Times New Roman,serif\" font-size=\"14.00\" fill=\"white\">economic_status</text>\n",
       "</a>\n",
       "</g>\n",
       "</g>\n",
       "<!-- occupation -->\n",
       "<g id=\"node4\" class=\"node\">\n",
       "<title>occupation</title>\n",
       "<g id=\"a_node4\"><a xlink:title=\"(11) occupation\">\n",
       "<ellipse fill=\"#404040\" stroke=\"#4a4a4a\" cx=\"317.12\" cy=\"-306\" rx=\"51.35\" ry=\"18\"/>\n",
       "<text text-anchor=\"middle\" x=\"317.12\" y=\"-300.95\" font-family=\"Times New Roman,serif\" font-size=\"14.00\" fill=\"white\">occupation</text>\n",
       "</a>\n",
       "</g>\n",
       "</g>\n",
       "<!-- economic_status&#45;&gt;occupation -->\n",
       "<g id=\"edge5\" class=\"edge\">\n",
       "<title>economic_status-&gt;occupation</title>\n",
       "<g id=\"a_edge5\"><a xlink:title=\"8 → 11\">\n",
       "<path fill=\"none\" stroke=\"#4a4a4a\" d=\"M256.84,-360.41C266.85,-351.54 279.35,-340.47 290.37,-330.71\"/>\n",
       "<polygon fill=\"#4a4a4a\" stroke=\"#4a4a4a\" points=\"292.51,-333.48 297.68,-324.23 287.87,-328.24 292.51,-333.48\"/>\n",
       "</a>\n",
       "</g>\n",
       "</g>\n",
       "<!-- age -->\n",
       "<g id=\"node6\" class=\"node\">\n",
       "<title>age</title>\n",
       "<g id=\"a_node6\"><a xlink:title=\"(1) age\">\n",
       "<ellipse fill=\"#404040\" stroke=\"#4a4a4a\" cx=\"183.12\" cy=\"-234\" rx=\"27\" ry=\"18\"/>\n",
       "<text text-anchor=\"middle\" x=\"183.12\" y=\"-228.95\" font-family=\"Times New Roman,serif\" font-size=\"14.00\" fill=\"white\">age</text>\n",
       "</a>\n",
       "</g>\n",
       "</g>\n",
       "<!-- economic_status&#45;&gt;age -->\n",
       "<g id=\"edge13\" class=\"edge\">\n",
       "<title>economic_status-&gt;age</title>\n",
       "<g id=\"a_edge13\"><a xlink:title=\"8 → 1\">\n",
       "<path fill=\"none\" stroke=\"#4a4a4a\" d=\"M231.38,-359.59C221.96,-335.27 204.77,-290.89 193.65,-262.19\"/>\n",
       "<polygon fill=\"#4a4a4a\" stroke=\"#4a4a4a\" points=\"197,-261.14 190.13,-253.08 190.48,-263.67 197,-261.14\"/>\n",
       "</a>\n",
       "</g>\n",
       "</g>\n",
       "<!-- cur_eco_activity -->\n",
       "<g id=\"node12\" class=\"node\">\n",
       "<title>cur_eco_activity</title>\n",
       "<g id=\"a_node12\"><a xlink:title=\"(9) cur_eco_activity\">\n",
       "<ellipse fill=\"#404040\" stroke=\"#4a4a4a\" cx=\"366.12\" cy=\"-162\" rx=\"72.34\" ry=\"18\"/>\n",
       "<text text-anchor=\"middle\" x=\"366.12\" y=\"-156.95\" font-family=\"Times New Roman,serif\" font-size=\"14.00\" fill=\"white\">cur_eco_activity</text>\n",
       "</a>\n",
       "</g>\n",
       "</g>\n",
       "<!-- economic_status&#45;&gt;cur_eco_activity -->\n",
       "<g id=\"edge2\" class=\"edge\">\n",
       "<title>economic_status-&gt;cur_eco_activity</title>\n",
       "<g id=\"a_edge2\"><a xlink:title=\"8 → 9\">\n",
       "<path fill=\"none\" stroke=\"#4a4a4a\" d=\"M239.13,-359.73C241.82,-327.88 251.62,-259.25 287.12,-216 297.41,-203.47 311.43,-192.75 324.8,-184.3\"/>\n",
       "<polygon fill=\"#4a4a4a\" stroke=\"#4a4a4a\" points=\"326.29,-187.49 333.06,-179.34 322.68,-181.49 326.29,-187.49\"/>\n",
       "</a>\n",
       "</g>\n",
       "</g>\n",
       "<!-- household_size -->\n",
       "<g id=\"node2\" class=\"node\">\n",
       "<title>household_size</title>\n",
       "<g id=\"a_node2\"><a xlink:title=\"(3) household_size\">\n",
       "<ellipse fill=\"#404040\" stroke=\"#4a4a4a\" cx=\"208.12\" cy=\"-162\" rx=\"67.73\" ry=\"18\"/>\n",
       "<text text-anchor=\"middle\" x=\"208.12\" y=\"-156.95\" font-family=\"Times New Roman,serif\" font-size=\"14.00\" fill=\"white\">household_size</text>\n",
       "</a>\n",
       "</g>\n",
       "</g>\n",
       "<!-- household_position -->\n",
       "<g id=\"node3\" class=\"node\">\n",
       "<title>household_position</title>\n",
       "<g id=\"a_node3\"><a xlink:title=\"(2) household_position\">\n",
       "<ellipse fill=\"#404040\" stroke=\"#4a4a4a\" cx=\"149.12\" cy=\"-90\" rx=\"83.08\" ry=\"18\"/>\n",
       "<text text-anchor=\"middle\" x=\"149.12\" y=\"-84.95\" font-family=\"Times New Roman,serif\" font-size=\"14.00\" fill=\"white\">household_position</text>\n",
       "</a>\n",
       "</g>\n",
       "</g>\n",
       "<!-- household_size&#45;&gt;household_position -->\n",
       "<g id=\"edge12\" class=\"edge\">\n",
       "<title>household_size-&gt;household_position</title>\n",
       "<g id=\"a_edge12\"><a xlink:title=\"3 → 2\">\n",
       "<path fill=\"none\" stroke=\"#4a4a4a\" d=\"M193.84,-144.05C186.88,-135.8 178.37,-125.7 170.65,-116.54\"/>\n",
       "<polygon fill=\"#4a4a4a\" stroke=\"#4a4a4a\" points=\"173.37,-114.34 164.25,-108.95 168.02,-118.85 173.37,-114.34\"/>\n",
       "</a>\n",
       "</g>\n",
       "</g>\n",
       "<!-- prev_residence_place -->\n",
       "<g id=\"node7\" class=\"node\">\n",
       "<title>prev_residence_place</title>\n",
       "<g id=\"a_node7\"><a xlink:title=\"(4) prev_residence_place\">\n",
       "<ellipse fill=\"#404040\" stroke=\"#4a4a4a\" cx=\"247.12\" cy=\"-18\" rx=\"90.76\" ry=\"18\"/>\n",
       "<text text-anchor=\"middle\" x=\"247.12\" y=\"-12.95\" font-family=\"Times New Roman,serif\" font-size=\"14.00\" fill=\"white\">prev_residence_place</text>\n",
       "</a>\n",
       "</g>\n",
       "</g>\n",
       "<!-- household_size&#45;&gt;prev_residence_place -->\n",
       "<g id=\"edge1\" class=\"edge\">\n",
       "<title>household_size-&gt;prev_residence_place</title>\n",
       "<g id=\"a_edge1\"><a xlink:title=\"3 → 4\">\n",
       "<path fill=\"none\" stroke=\"#4a4a4a\" d=\"M221.77,-143.93C228.87,-134.04 236.93,-121 241.12,-108 247.42,-88.48 248.81,-65.34 248.68,-47.55\"/>\n",
       "<polygon fill=\"#4a4a4a\" stroke=\"#4a4a4a\" points=\"252.18,-47.61 248.43,-37.7 245.19,-47.79 252.18,-47.61\"/>\n",
       "</a>\n",
       "</g>\n",
       "</g>\n",
       "<!-- marital_status -->\n",
       "<g id=\"node5\" class=\"node\">\n",
       "<title>marital_status</title>\n",
       "<g id=\"a_node5\"><a xlink:title=\"(10) marital_status\">\n",
       "<ellipse fill=\"#404040\" stroke=\"#4a4a4a\" cx=\"63.12\" cy=\"-18\" rx=\"63.12\" ry=\"18\"/>\n",
       "<text text-anchor=\"middle\" x=\"63.12\" y=\"-12.95\" font-family=\"Times New Roman,serif\" font-size=\"14.00\" fill=\"white\">marital_status</text>\n",
       "</a>\n",
       "</g>\n",
       "</g>\n",
       "<!-- household_position&#45;&gt;marital_status -->\n",
       "<g id=\"edge9\" class=\"edge\">\n",
       "<title>household_position-&gt;marital_status</title>\n",
       "<g id=\"a_edge9\"><a xlink:title=\"2 → 10\">\n",
       "<path fill=\"none\" stroke=\"#4a4a4a\" d=\"M128.74,-72.41C117.82,-63.52 104.17,-52.41 92.16,-42.63\"/>\n",
       "<polygon fill=\"#4a4a4a\" stroke=\"#4a4a4a\" points=\"94.5,-40.02 84.53,-36.43 90.08,-45.45 94.5,-40.02\"/>\n",
       "</a>\n",
       "</g>\n",
       "</g>\n",
       "<!-- household_position&#45;&gt;prev_residence_place -->\n",
       "<g id=\"edge7\" class=\"edge\">\n",
       "<title>household_position-&gt;prev_residence_place</title>\n",
       "<g id=\"a_edge7\"><a xlink:title=\"2 → 4\">\n",
       "<path fill=\"none\" stroke=\"#4a4a4a\" d=\"M172.35,-72.41C184.95,-63.41 200.73,-52.14 214.54,-42.27\"/>\n",
       "<polygon fill=\"#4a4a4a\" stroke=\"#4a4a4a\" points=\"216.39,-45.25 222.49,-36.59 212.32,-39.56 216.39,-45.25\"/>\n",
       "</a>\n",
       "</g>\n",
       "</g>\n",
       "<!-- occupation&#45;&gt;age -->\n",
       "<g id=\"edge6\" class=\"edge\">\n",
       "<title>occupation-&gt;age</title>\n",
       "<g id=\"a_edge6\"><a xlink:title=\"11 → 1\">\n",
       "<path fill=\"none\" stroke=\"#4a4a4a\" d=\"M289.36,-290.5C267.39,-279.02 236.72,-263 213.99,-251.12\"/>\n",
       "<polygon fill=\"#4a4a4a\" stroke=\"#4a4a4a\" points=\"215.67,-248.05 205.19,-246.53 212.43,-254.26 215.67,-248.05\"/>\n",
       "</a>\n",
       "</g>\n",
       "</g>\n",
       "<!-- sex -->\n",
       "<g id=\"node8\" class=\"node\">\n",
       "<title>sex</title>\n",
       "<g id=\"a_node8\"><a xlink:title=\"(0) sex\">\n",
       "<ellipse fill=\"#404040\" stroke=\"#4a4a4a\" cx=\"323.12\" cy=\"-234\" rx=\"27\" ry=\"18\"/>\n",
       "<text text-anchor=\"middle\" x=\"323.12\" y=\"-228.95\" font-family=\"Times New Roman,serif\" font-size=\"14.00\" fill=\"white\">sex</text>\n",
       "</a>\n",
       "</g>\n",
       "</g>\n",
       "<!-- occupation&#45;&gt;sex -->\n",
       "<g id=\"edge14\" class=\"edge\">\n",
       "<title>occupation-&gt;sex</title>\n",
       "<g id=\"a_edge14\"><a xlink:title=\"11 → 0\">\n",
       "<path fill=\"none\" stroke=\"#4a4a4a\" d=\"M318.61,-287.7C319.23,-280.41 319.98,-271.73 320.68,-263.54\"/>\n",
       "<polygon fill=\"#4a4a4a\" stroke=\"#4a4a4a\" points=\"324.16,-263.87 321.53,-253.61 317.19,-263.28 324.16,-263.87\"/>\n",
       "</a>\n",
       "</g>\n",
       "</g>\n",
       "<!-- country_birth -->\n",
       "<g id=\"node10\" class=\"node\">\n",
       "<title>country_birth</title>\n",
       "<g id=\"a_node10\"><a xlink:title=\"(6) country_birth\">\n",
       "<ellipse fill=\"#404040\" stroke=\"#4a4a4a\" cx=\"479.12\" cy=\"-234\" rx=\"61.08\" ry=\"18\"/>\n",
       "<text text-anchor=\"middle\" x=\"479.12\" y=\"-228.95\" font-family=\"Times New Roman,serif\" font-size=\"14.00\" fill=\"white\">country_birth</text>\n",
       "</a>\n",
       "</g>\n",
       "</g>\n",
       "<!-- occupation&#45;&gt;country_birth -->\n",
       "<g id=\"edge16\" class=\"edge\">\n",
       "<title>occupation-&gt;country_birth</title>\n",
       "<g id=\"a_edge16\"><a xlink:title=\"11 → 6\">\n",
       "<path fill=\"none\" stroke=\"#4a4a4a\" d=\"M348.36,-291.5C373.03,-280.84 407.77,-265.83 435.24,-253.96\"/>\n",
       "<polygon fill=\"#4a4a4a\" stroke=\"#4a4a4a\" points=\"436.57,-257.2 444.36,-250.02 433.8,-250.77 436.57,-257.2\"/>\n",
       "</a>\n",
       "</g>\n",
       "</g>\n",
       "<!-- age&#45;&gt;household_size -->\n",
       "<g id=\"edge3\" class=\"edge\">\n",
       "<title>age-&gt;household_size</title>\n",
       "<g id=\"a_edge3\"><a xlink:title=\"1 → 3\">\n",
       "<path fill=\"none\" stroke=\"#4a4a4a\" d=\"M189.17,-216.05C191.87,-208.52 195.11,-199.44 198.15,-190.94\"/>\n",
       "<polygon fill=\"#4a4a4a\" stroke=\"#4a4a4a\" points=\"201.38,-192.3 201.44,-181.7 194.78,-189.94 201.38,-192.3\"/>\n",
       "</a>\n",
       "</g>\n",
       "</g>\n",
       "<!-- age&#45;&gt;household_position -->\n",
       "<g id=\"edge8\" class=\"edge\">\n",
       "<title>age-&gt;household_position</title>\n",
       "<g id=\"a_edge8\"><a xlink:title=\"1 → 2\">\n",
       "<path fill=\"none\" stroke=\"#4a4a4a\" d=\"M164.71,-220.3C152.65,-210.79 137.9,-196.59 131.12,-180 123.07,-160.3 128.52,-136.63 135.46,-118.66\"/>\n",
       "<polygon fill=\"#4a4a4a\" stroke=\"#4a4a4a\" points=\"138.59,-120.25 139.28,-109.68 132.15,-117.51 138.59,-120.25\"/>\n",
       "</a>\n",
       "</g>\n",
       "</g>\n",
       "<!-- age&#45;&gt;marital_status -->\n",
       "<g id=\"edge17\" class=\"edge\">\n",
       "<title>age-&gt;marital_status</title>\n",
       "<g id=\"a_edge17\"><a xlink:title=\"1 → 10\">\n",
       "<path fill=\"none\" stroke=\"#4a4a4a\" d=\"M163.71,-221.44C133.78,-202.3 77.68,-160.84 57.12,-108 49.65,-88.79 51.57,-65.51 55.13,-47.57\"/>\n",
       "<polygon fill=\"#4a4a4a\" stroke=\"#4a4a4a\" points=\"58.54,-48.39 57.36,-37.86 51.71,-46.83 58.54,-48.39\"/>\n",
       "</a>\n",
       "</g>\n",
       "</g>\n",
       "<!-- sex&#45;&gt;cur_eco_activity -->\n",
       "<g id=\"edge15\" class=\"edge\">\n",
       "<title>sex-&gt;cur_eco_activity</title>\n",
       "<g id=\"a_edge15\"><a xlink:title=\"0 → 9\">\n",
       "<path fill=\"none\" stroke=\"#4a4a4a\" d=\"M333.1,-216.76C338,-208.78 344.04,-198.95 349.6,-189.89\"/>\n",
       "<polygon fill=\"#4a4a4a\" stroke=\"#4a4a4a\" points=\"352.56,-191.77 354.81,-181.41 346.6,-188.1 352.56,-191.77\"/>\n",
       "</a>\n",
       "</g>\n",
       "</g>\n",
       "<!-- edu_level -->\n",
       "<g id=\"node9\" class=\"node\">\n",
       "<title>edu_level</title>\n",
       "<g id=\"a_node9\"><a xlink:title=\"(7) edu_level\">\n",
       "<ellipse fill=\"#404040\" stroke=\"#4a4a4a\" cx=\"431.12\" cy=\"-378\" rx=\"46.75\" ry=\"18\"/>\n",
       "<text text-anchor=\"middle\" x=\"431.12\" y=\"-372.95\" font-family=\"Times New Roman,serif\" font-size=\"14.00\" fill=\"white\">edu_level</text>\n",
       "</a>\n",
       "</g>\n",
       "</g>\n",
       "<!-- edu_level&#45;&gt;occupation -->\n",
       "<g id=\"edge19\" class=\"edge\">\n",
       "<title>edu_level-&gt;occupation</title>\n",
       "<g id=\"a_edge19\"><a xlink:title=\"7 → 11\">\n",
       "<path fill=\"none\" stroke=\"#4a4a4a\" d=\"M406.95,-362.15C390.81,-352.25 369.35,-339.07 351.45,-328.08\"/>\n",
       "<polygon fill=\"#4a4a4a\" stroke=\"#4a4a4a\" points=\"353.3,-325.11 342.95,-322.86 349.64,-331.07 353.3,-325.11\"/>\n",
       "</a>\n",
       "</g>\n",
       "</g>\n",
       "<!-- edu_level&#45;&gt;country_birth -->\n",
       "<g id=\"edge11\" class=\"edge\">\n",
       "<title>edu_level-&gt;country_birth</title>\n",
       "<g id=\"a_edge11\"><a xlink:title=\"7 → 6\">\n",
       "<path fill=\"none\" stroke=\"#4a4a4a\" d=\"M436.91,-359.87C445.06,-335.78 459.99,-291.6 469.73,-262.77\"/>\n",
       "<polygon fill=\"#4a4a4a\" stroke=\"#4a4a4a\" points=\"472.94,-264.22 472.83,-253.62 466.31,-261.98 472.94,-264.22\"/>\n",
       "</a>\n",
       "</g>\n",
       "</g>\n",
       "<!-- citizenship -->\n",
       "<g id=\"node11\" class=\"node\">\n",
       "<title>citizenship</title>\n",
       "<g id=\"a_node11\"><a xlink:title=\"(5) citizenship\">\n",
       "<ellipse fill=\"#404040\" stroke=\"#4a4a4a\" cx=\"550.12\" cy=\"-162\" rx=\"50.84\" ry=\"18\"/>\n",
       "<text text-anchor=\"middle\" x=\"550.12\" y=\"-156.95\" font-family=\"Times New Roman,serif\" font-size=\"14.00\" fill=\"white\">citizenship</text>\n",
       "</a>\n",
       "</g>\n",
       "</g>\n",
       "<!-- edu_level&#45;&gt;citizenship -->\n",
       "<g id=\"edge18\" class=\"edge\">\n",
       "<title>edu_level-&gt;citizenship</title>\n",
       "<g id=\"a_edge18\"><a xlink:title=\"7 → 5\">\n",
       "<path fill=\"none\" stroke=\"#4a4a4a\" d=\"M453.21,-361.92C481.6,-341.06 529.56,-300.42 549.12,-252 556.83,-232.93 556.79,-209.64 554.98,-191.67\"/>\n",
       "<polygon fill=\"#4a4a4a\" stroke=\"#4a4a4a\" points=\"558.48,-191.44 553.75,-181.96 551.54,-192.32 558.48,-191.44\"/>\n",
       "</a>\n",
       "</g>\n",
       "</g>\n",
       "<!-- edu_level&#45;&gt;cur_eco_activity -->\n",
       "<g id=\"edge10\" class=\"edge\">\n",
       "<title>edu_level-&gt;cur_eco_activity</title>\n",
       "<g id=\"a_edge10\"><a xlink:title=\"7 → 9\">\n",
       "<path fill=\"none\" stroke=\"#4a4a4a\" d=\"M425.91,-359.85C414.74,-323.07 388.38,-236.29 374.7,-191.24\"/>\n",
       "<polygon fill=\"#4a4a4a\" stroke=\"#4a4a4a\" points=\"378.05,-190.23 371.8,-181.68 371.35,-192.27 378.05,-190.23\"/>\n",
       "</a>\n",
       "</g>\n",
       "</g>\n",
       "<!-- country_birth&#45;&gt;citizenship -->\n",
       "<g id=\"edge4\" class=\"edge\">\n",
       "<title>country_birth-&gt;citizenship</title>\n",
       "<g id=\"a_edge4\"><a xlink:title=\"6 → 5\">\n",
       "<path fill=\"none\" stroke=\"#4a4a4a\" d=\"M495.95,-216.41C504.7,-207.78 515.57,-197.06 525.28,-187.5\"/>\n",
       "<polygon fill=\"#4a4a4a\" stroke=\"#4a4a4a\" points=\"527.68,-190.05 532.34,-180.53 522.76,-185.06 527.68,-190.05\"/>\n",
       "</a>\n",
       "</g>\n",
       "</g>\n",
       "</g>\n",
       "</svg>"
      ],
      "text/plain": [
       "<IPython.core.display.SVG object>"
      ]
     },
     "metadata": {},
     "output_type": "display_data"
    }
   ],
   "source": [
    "# Add new arcs to mediate relationships\n",
    "# bn.addArc(\"age\", \"education_level\")\n",
    "bn.addArc(\"edu_level\", \"citizenship\")\n",
    "\n",
    "# # Ensure the desired arc doesn't already exist before adding\n",
    "# if not bn.hasArc(\"age\", \"economic_status\"):\n",
    "#     bn.addArc(\"age\", \"education_level\")\n",
    "#     bn.addArc(\"education_level\", \"economic_status\")\n",
    "\n",
    "\n",
    "# Visualize the updated graph\n",
    "# # Visualize the modified graph\n",
    "gnb.showBN(bn)\n",
    "\n",
    "\n"
   ]
  },
  {
   "cell_type": "code",
   "execution_count": 51,
   "id": "cd4b857f-8ea0-41d2-934e-eff39e2121a9",
   "metadata": {},
   "outputs": [
    {
     "data": {
      "image/svg+xml": [
       "<svg xmlns=\"http://www.w3.org/2000/svg\" xmlns:xlink=\"http://www.w3.org/1999/xlink\" width=\"360pt\" height=\"281pt\" viewBox=\"0.00 0.00 360.00 281.49\">\n",
       "<g id=\"graph0\" class=\"graph\" transform=\"scale(0.696747 0.696747) rotate(0) translate(4 400)\">\n",
       "<title>G</title>\n",
       "<!-- economic_status -->\n",
       "<g id=\"node1\" class=\"node\">\n",
       "<title>economic_status</title>\n",
       "<g id=\"a_node1\"><a xlink:title=\"(8) economic_status\">\n",
       "<ellipse fill=\"#404040\" stroke=\"#4a4a4a\" cx=\"72.85\" cy=\"-378\" rx=\"72.85\" ry=\"18\"/>\n",
       "<text text-anchor=\"middle\" x=\"72.85\" y=\"-372.95\" font-family=\"Times New Roman,serif\" font-size=\"14.00\" fill=\"white\">economic_status</text>\n",
       "</a>\n",
       "</g>\n",
       "</g>\n",
       "<!-- occupation -->\n",
       "<g id=\"node4\" class=\"node\">\n",
       "<title>occupation</title>\n",
       "<g id=\"a_node4\"><a xlink:title=\"(11) occupation\">\n",
       "<ellipse fill=\"#404040\" stroke=\"#4a4a4a\" cx=\"217.85\" cy=\"-306\" rx=\"51.35\" ry=\"18\"/>\n",
       "<text text-anchor=\"middle\" x=\"217.85\" y=\"-300.95\" font-family=\"Times New Roman,serif\" font-size=\"14.00\" fill=\"white\">occupation</text>\n",
       "</a>\n",
       "</g>\n",
       "</g>\n",
       "<!-- economic_status&#45;&gt;occupation -->\n",
       "<g id=\"edge17\" class=\"edge\">\n",
       "<title>economic_status-&gt;occupation</title>\n",
       "<g id=\"a_edge17\"><a xlink:title=\"8 → 11\">\n",
       "<path fill=\"none\" stroke=\"#4a4a4a\" d=\"M105.03,-361.46C126.73,-350.99 155.51,-337.09 178.57,-325.96\"/>\n",
       "<polygon fill=\"#4a4a4a\" stroke=\"#4a4a4a\" points=\"179.86,-329.22 187.35,-321.72 176.82,-322.92 179.86,-329.22\"/>\n",
       "</a>\n",
       "</g>\n",
       "</g>\n",
       "<!-- cur_eco_activity -->\n",
       "<g id=\"node12\" class=\"node\">\n",
       "<title>cur_eco_activity</title>\n",
       "<g id=\"a_node12\"><a xlink:title=\"(9) cur_eco_activity\">\n",
       "<ellipse fill=\"#404040\" stroke=\"#4a4a4a\" cx=\"86.85\" cy=\"-162\" rx=\"72.34\" ry=\"18\"/>\n",
       "<text text-anchor=\"middle\" x=\"86.85\" y=\"-156.95\" font-family=\"Times New Roman,serif\" font-size=\"14.00\" fill=\"white\">cur_eco_activity</text>\n",
       "</a>\n",
       "</g>\n",
       "</g>\n",
       "<!-- economic_status&#45;&gt;cur_eco_activity -->\n",
       "<g id=\"edge11\" class=\"edge\">\n",
       "<title>economic_status-&gt;cur_eco_activity</title>\n",
       "<g id=\"a_edge11\"><a xlink:title=\"8 → 9\">\n",
       "<path fill=\"none\" stroke=\"#4a4a4a\" d=\"M73.97,-359.85C76.37,-323.14 82.03,-236.66 84.98,-191.53\"/>\n",
       "<polygon fill=\"#4a4a4a\" stroke=\"#4a4a4a\" points=\"88.46,-191.95 85.62,-181.74 81.48,-191.49 88.46,-191.95\"/>\n",
       "</a>\n",
       "</g>\n",
       "</g>\n",
       "<!-- household_size -->\n",
       "<g id=\"node2\" class=\"node\">\n",
       "<title>household_size</title>\n",
       "<g id=\"a_node2\"><a xlink:title=\"(3) household_size\">\n",
       "<ellipse fill=\"#404040\" stroke=\"#4a4a4a\" cx=\"320.85\" cy=\"-162\" rx=\"67.73\" ry=\"18\"/>\n",
       "<text text-anchor=\"middle\" x=\"320.85\" y=\"-156.95\" font-family=\"Times New Roman,serif\" font-size=\"14.00\" fill=\"white\">household_size</text>\n",
       "</a>\n",
       "</g>\n",
       "</g>\n",
       "<!-- household_position -->\n",
       "<g id=\"node3\" class=\"node\">\n",
       "<title>household_position</title>\n",
       "<g id=\"a_node3\"><a xlink:title=\"(2) household_position\">\n",
       "<ellipse fill=\"#404040\" stroke=\"#4a4a4a\" cx=\"297.85\" cy=\"-90\" rx=\"83.08\" ry=\"18\"/>\n",
       "<text text-anchor=\"middle\" x=\"297.85\" y=\"-84.95\" font-family=\"Times New Roman,serif\" font-size=\"14.00\" fill=\"white\">household_position</text>\n",
       "</a>\n",
       "</g>\n",
       "</g>\n",
       "<!-- household_size&#45;&gt;household_position -->\n",
       "<g id=\"edge14\" class=\"edge\">\n",
       "<title>household_size-&gt;household_position</title>\n",
       "<g id=\"a_edge14\"><a xlink:title=\"3 → 2\">\n",
       "<path fill=\"none\" stroke=\"#4a4a4a\" d=\"M315.16,-143.7C312.71,-136.24 309.78,-127.32 307.04,-118.97\"/>\n",
       "<polygon fill=\"#4a4a4a\" stroke=\"#4a4a4a\" points=\"310.39,-117.95 303.94,-109.54 303.74,-120.14 310.39,-117.95\"/>\n",
       "</a>\n",
       "</g>\n",
       "</g>\n",
       "<!-- prev_residence_place -->\n",
       "<g id=\"node7\" class=\"node\">\n",
       "<title>prev_residence_place</title>\n",
       "<g id=\"a_node7\"><a xlink:title=\"(4) prev_residence_place\">\n",
       "<ellipse fill=\"#404040\" stroke=\"#4a4a4a\" cx=\"395.85\" cy=\"-18\" rx=\"90.76\" ry=\"18\"/>\n",
       "<text text-anchor=\"middle\" x=\"395.85\" y=\"-12.95\" font-family=\"Times New Roman,serif\" font-size=\"14.00\" fill=\"white\">prev_residence_place</text>\n",
       "</a>\n",
       "</g>\n",
       "</g>\n",
       "<!-- household_size&#45;&gt;prev_residence_place -->\n",
       "<g id=\"edge4\" class=\"edge\">\n",
       "<title>household_size-&gt;prev_residence_place</title>\n",
       "<g id=\"a_edge4\"><a xlink:title=\"3 → 4\">\n",
       "<path fill=\"none\" stroke=\"#4a4a4a\" d=\"M351.33,-145.55C365.6,-136.62 381.29,-123.98 389.85,-108 399.69,-89.61 400.84,-65.93 399.71,-47.62\"/>\n",
       "<polygon fill=\"#4a4a4a\" stroke=\"#4a4a4a\" points=\"403.2,-47.36 398.82,-37.71 396.23,-47.98 403.2,-47.36\"/>\n",
       "</a>\n",
       "</g>\n",
       "</g>\n",
       "<!-- marital_status -->\n",
       "<g id=\"node5\" class=\"node\">\n",
       "<title>marital_status</title>\n",
       "<g id=\"a_node5\"><a xlink:title=\"(10) marital_status\">\n",
       "<ellipse fill=\"#404040\" stroke=\"#4a4a4a\" cx=\"211.85\" cy=\"-18\" rx=\"63.12\" ry=\"18\"/>\n",
       "<text text-anchor=\"middle\" x=\"211.85\" y=\"-12.95\" font-family=\"Times New Roman,serif\" font-size=\"14.00\" fill=\"white\">marital_status</text>\n",
       "</a>\n",
       "</g>\n",
       "</g>\n",
       "<!-- household_position&#45;&gt;marital_status -->\n",
       "<g id=\"edge7\" class=\"edge\">\n",
       "<title>household_position-&gt;marital_status</title>\n",
       "<g id=\"a_edge7\"><a xlink:title=\"2 → 10\">\n",
       "<path fill=\"none\" stroke=\"#4a4a4a\" d=\"M277.47,-72.41C266.54,-63.52 252.89,-52.41 240.88,-42.63\"/>\n",
       "<polygon fill=\"#4a4a4a\" stroke=\"#4a4a4a\" points=\"243.22,-40.02 233.26,-36.43 238.8,-45.45 243.22,-40.02\"/>\n",
       "</a>\n",
       "</g>\n",
       "</g>\n",
       "<!-- household_position&#45;&gt;prev_residence_place -->\n",
       "<g id=\"edge2\" class=\"edge\">\n",
       "<title>household_position-&gt;prev_residence_place</title>\n",
       "<g id=\"a_edge2\"><a xlink:title=\"2 → 4\">\n",
       "<path fill=\"none\" stroke=\"#4a4a4a\" d=\"M321.07,-72.41C333.67,-63.41 349.45,-52.14 363.27,-42.27\"/>\n",
       "<polygon fill=\"#4a4a4a\" stroke=\"#4a4a4a\" points=\"365.12,-45.25 371.22,-36.59 361.05,-39.56 365.12,-45.25\"/>\n",
       "</a>\n",
       "</g>\n",
       "</g>\n",
       "<!-- age -->\n",
       "<g id=\"node6\" class=\"node\">\n",
       "<title>age</title>\n",
       "<g id=\"a_node6\"><a xlink:title=\"(1) age\">\n",
       "<ellipse fill=\"#404040\" stroke=\"#4a4a4a\" cx=\"224.85\" cy=\"-234\" rx=\"27\" ry=\"18\"/>\n",
       "<text text-anchor=\"middle\" x=\"224.85\" y=\"-228.95\" font-family=\"Times New Roman,serif\" font-size=\"14.00\" fill=\"white\">age</text>\n",
       "</a>\n",
       "</g>\n",
       "</g>\n",
       "<!-- occupation&#45;&gt;age -->\n",
       "<g id=\"edge1\" class=\"edge\">\n",
       "<title>occupation-&gt;age</title>\n",
       "<g id=\"a_edge1\"><a xlink:title=\"11 → 1\">\n",
       "<path fill=\"none\" stroke=\"#4a4a4a\" d=\"M219.58,-287.7C220.31,-280.41 221.17,-271.73 221.99,-263.54\"/>\n",
       "<polygon fill=\"#4a4a4a\" stroke=\"#4a4a4a\" points=\"225.47,-263.91 222.99,-253.61 218.51,-263.21 225.47,-263.91\"/>\n",
       "</a>\n",
       "</g>\n",
       "</g>\n",
       "<!-- sex -->\n",
       "<g id=\"node8\" class=\"node\">\n",
       "<title>sex</title>\n",
       "<g id=\"a_node8\"><a xlink:title=\"(0) sex\">\n",
       "<ellipse fill=\"#404040\" stroke=\"#4a4a4a\" cx=\"152.85\" cy=\"-234\" rx=\"27\" ry=\"18\"/>\n",
       "<text text-anchor=\"middle\" x=\"152.85\" y=\"-228.95\" font-family=\"Times New Roman,serif\" font-size=\"14.00\" fill=\"white\">sex</text>\n",
       "</a>\n",
       "</g>\n",
       "</g>\n",
       "<!-- occupation&#45;&gt;sex -->\n",
       "<g id=\"edge6\" class=\"edge\">\n",
       "<title>occupation-&gt;sex</title>\n",
       "<g id=\"a_edge6\"><a xlink:title=\"11 → 0\">\n",
       "<path fill=\"none\" stroke=\"#4a4a4a\" d=\"M202.44,-288.41C193.96,-279.28 183.32,-267.81 174.06,-257.85\"/>\n",
       "<polygon fill=\"#4a4a4a\" stroke=\"#4a4a4a\" points=\"176.78,-255.63 167.41,-250.68 171.65,-260.39 176.78,-255.63\"/>\n",
       "</a>\n",
       "</g>\n",
       "</g>\n",
       "<!-- country_birth -->\n",
       "<g id=\"node10\" class=\"node\">\n",
       "<title>country_birth</title>\n",
       "<g id=\"a_node10\"><a xlink:title=\"(6) country_birth\">\n",
       "<ellipse fill=\"#404040\" stroke=\"#4a4a4a\" cx=\"330.85\" cy=\"-234\" rx=\"61.08\" ry=\"18\"/>\n",
       "<text text-anchor=\"middle\" x=\"330.85\" y=\"-228.95\" font-family=\"Times New Roman,serif\" font-size=\"14.00\" fill=\"white\">country_birth</text>\n",
       "</a>\n",
       "</g>\n",
       "</g>\n",
       "<!-- occupation&#45;&gt;country_birth -->\n",
       "<g id=\"edge9\" class=\"edge\">\n",
       "<title>occupation-&gt;country_birth</title>\n",
       "<g id=\"a_edge9\"><a xlink:title=\"11 → 6\">\n",
       "<path fill=\"none\" stroke=\"#4a4a4a\" d=\"M242.37,-289.81C257.99,-280.13 278.49,-267.43 295.82,-256.7\"/>\n",
       "<polygon fill=\"#4a4a4a\" stroke=\"#4a4a4a\" points=\"297.65,-259.68 304.31,-251.44 293.96,-253.73 297.65,-259.68\"/>\n",
       "</a>\n",
       "</g>\n",
       "</g>\n",
       "<!-- age&#45;&gt;household_size -->\n",
       "<g id=\"edge16\" class=\"edge\">\n",
       "<title>age-&gt;household_size</title>\n",
       "<g id=\"a_edge16\"><a xlink:title=\"1 → 3\">\n",
       "<path fill=\"none\" stroke=\"#4a4a4a\" d=\"M242.46,-220.16C255.54,-210.62 273.76,-197.34 289.33,-185.98\"/>\n",
       "<polygon fill=\"#4a4a4a\" stroke=\"#4a4a4a\" points=\"291.38,-188.82 297.4,-180.1 287.25,-183.16 291.38,-188.82\"/>\n",
       "</a>\n",
       "</g>\n",
       "</g>\n",
       "<!-- age&#45;&gt;household_position -->\n",
       "<g id=\"edge3\" class=\"edge\">\n",
       "<title>age-&gt;household_position</title>\n",
       "<g id=\"a_edge3\"><a xlink:title=\"1 → 2\">\n",
       "<path fill=\"none\" stroke=\"#4a4a4a\" d=\"M225.61,-215.58C227.08,-196.85 231.37,-166.71 243.85,-144 249.74,-133.27 258.51,-123.33 267.27,-115.02\"/>\n",
       "<polygon fill=\"#4a4a4a\" stroke=\"#4a4a4a\" points=\"269.32,-117.87 274.44,-108.6 264.66,-112.66 269.32,-117.87\"/>\n",
       "</a>\n",
       "</g>\n",
       "</g>\n",
       "<!-- age&#45;&gt;marital_status -->\n",
       "<g id=\"edge13\" class=\"edge\">\n",
       "<title>age-&gt;marital_status</title>\n",
       "<g id=\"a_edge13\"><a xlink:title=\"1 → 10\">\n",
       "<path fill=\"none\" stroke=\"#4a4a4a\" d=\"M220.91,-216.14C214.51,-186.89 202.87,-124.83 205.85,-72 206.3,-64.02 207.13,-55.39 208.03,-47.47\"/>\n",
       "<polygon fill=\"#4a4a4a\" stroke=\"#4a4a4a\" points=\"211.49,-48 209.23,-37.65 204.54,-47.15 211.49,-48\"/>\n",
       "</a>\n",
       "</g>\n",
       "</g>\n",
       "<!-- sex&#45;&gt;cur_eco_activity -->\n",
       "<g id=\"edge8\" class=\"edge\">\n",
       "<title>sex-&gt;cur_eco_activity</title>\n",
       "<g id=\"a_edge8\"><a xlink:title=\"0 → 9\">\n",
       "<path fill=\"none\" stroke=\"#4a4a4a\" d=\"M138.85,-218.15C130.63,-209.44 120.03,-198.19 110.54,-188.13\"/>\n",
       "<polygon fill=\"#4a4a4a\" stroke=\"#4a4a4a\" points=\"113.36,-186.02 103.95,-181.14 108.27,-190.82 113.36,-186.02\"/>\n",
       "</a>\n",
       "</g>\n",
       "</g>\n",
       "<!-- edu_level -->\n",
       "<g id=\"node9\" class=\"node\">\n",
       "<title>edu_level</title>\n",
       "<g id=\"a_node9\"><a xlink:title=\"(7) edu_level\">\n",
       "<ellipse fill=\"#404040\" stroke=\"#4a4a4a\" cx=\"217.85\" cy=\"-378\" rx=\"46.75\" ry=\"18\"/>\n",
       "<text text-anchor=\"middle\" x=\"217.85\" y=\"-372.95\" font-family=\"Times New Roman,serif\" font-size=\"14.00\" fill=\"white\">edu_level</text>\n",
       "</a>\n",
       "</g>\n",
       "</g>\n",
       "<!-- edu_level&#45;&gt;occupation -->\n",
       "<g id=\"edge15\" class=\"edge\">\n",
       "<title>edu_level-&gt;occupation</title>\n",
       "<g id=\"a_edge15\"><a xlink:title=\"7 → 11\">\n",
       "<path fill=\"none\" stroke=\"#4a4a4a\" d=\"M217.85,-359.7C217.85,-352.41 217.85,-343.73 217.85,-335.54\"/>\n",
       "<polygon fill=\"#4a4a4a\" stroke=\"#4a4a4a\" points=\"221.35,-335.62 217.85,-325.62 214.35,-335.62 221.35,-335.62\"/>\n",
       "</a>\n",
       "</g>\n",
       "</g>\n",
       "<!-- edu_level&#45;&gt;country_birth -->\n",
       "<g id=\"edge12\" class=\"edge\">\n",
       "<title>edu_level-&gt;country_birth</title>\n",
       "<g id=\"a_edge12\"><a xlink:title=\"7 → 6\">\n",
       "<path fill=\"none\" stroke=\"#4a4a4a\" d=\"M238.48,-361.46C250.79,-351.57 266.23,-338.02 277.85,-324 293.68,-304.9 307.84,-280.55 317.53,-262.15\"/>\n",
       "<polygon fill=\"#4a4a4a\" stroke=\"#4a4a4a\" points=\"320.55,-263.92 322,-253.43 314.32,-260.73 320.55,-263.92\"/>\n",
       "</a>\n",
       "</g>\n",
       "</g>\n",
       "<!-- edu_level&#45;&gt;cur_eco_activity -->\n",
       "<g id=\"edge10\" class=\"edge\">\n",
       "<title>edu_level-&gt;cur_eco_activity</title>\n",
       "<g id=\"a_edge10\"><a xlink:title=\"7 → 9\">\n",
       "<path fill=\"none\" stroke=\"#4a4a4a\" d=\"M197.12,-361.54C184.77,-351.68 169.33,-338.13 157.85,-324 124.93,-283.5 104.32,-225.34 94.26,-191.14\"/>\n",
       "<polygon fill=\"#4a4a4a\" stroke=\"#4a4a4a\" points=\"97.64,-190.23 91.55,-181.57 90.91,-192.14 97.64,-190.23\"/>\n",
       "</a>\n",
       "</g>\n",
       "</g>\n",
       "<!-- citizenship -->\n",
       "<g id=\"node11\" class=\"node\">\n",
       "<title>citizenship</title>\n",
       "<g id=\"a_node11\"><a xlink:title=\"(5) citizenship\">\n",
       "<ellipse fill=\"#404040\" stroke=\"#4a4a4a\" cx=\"457.85\" cy=\"-162\" rx=\"50.84\" ry=\"18\"/>\n",
       "<text text-anchor=\"middle\" x=\"457.85\" y=\"-156.95\" font-family=\"Times New Roman,serif\" font-size=\"14.00\" fill=\"white\">citizenship</text>\n",
       "</a>\n",
       "</g>\n",
       "</g>\n",
       "<!-- country_birth&#45;&gt;citizenship -->\n",
       "<g id=\"edge5\" class=\"edge\">\n",
       "<title>country_birth-&gt;citizenship</title>\n",
       "<g id=\"a_edge5\"><a xlink:title=\"6 → 5\">\n",
       "<path fill=\"none\" stroke=\"#4a4a4a\" d=\"M358.72,-217.64C377.12,-207.49 401.43,-194.1 421.37,-183.11\"/>\n",
       "<polygon fill=\"#4a4a4a\" stroke=\"#4a4a4a\" points=\"422.95,-186.23 430.02,-178.34 419.57,-180.1 422.95,-186.23\"/>\n",
       "</a>\n",
       "</g>\n",
       "</g>\n",
       "</g>\n",
       "</svg>"
      ],
      "text/plain": [
       "<IPython.core.display.SVG object>"
      ]
     },
     "metadata": {},
     "output_type": "display_data"
    }
   ],
   "source": [
    "bn.eraseArc(\"edu_level\", \"citizenship\")\n",
    "bn.eraseArc(\"economic_status\", \"age\")\n",
    "# # Visualize the modified graph\n",
    "gnb.showBN(bn)\n"
   ]
  },
  {
   "cell_type": "code",
   "execution_count": null,
   "id": "c4abf915-fee9-4138-976d-a05b856e4a52",
   "metadata": {},
   "outputs": [],
   "source": []
  },
  {
   "cell_type": "code",
   "execution_count": null,
   "id": "66f2673f-d25f-4467-ae46-3776a56514d8",
   "metadata": {},
   "outputs": [],
   "source": []
  },
  {
   "cell_type": "markdown",
   "id": "f4803ac1-56f2-4694-ace1-5005c463acb8",
   "metadata": {},
   "source": [
    "## Learning the parameters\n",
    "Now that you have defined a graph, we need to learn the parameters. In this case, these parameters would correspond to the conditional probabilities for each node given its parents."
   ]
  },
  {
   "cell_type": "markdown",
   "id": "9ebec3aa-40cf-408a-aa29-7027e530ed1f",
   "metadata": {},
   "source": [
    "<span style='color:red'>**TODO-03:**</span> Follow the tutorial on learning parameters from a database (in this case a csv file) and learn the parameters for the dutch census dataset.\n",
    "                                                                                                                       \n",
    "https://pyagrum.readthedocs.io/en/1.15.1/notebooks/31-Learning_structuralLearning.html#Parameters-learning-from-the-database\n",
    "\n",
    "Visualize some of the learned conditional probability tables (cpt). (Minimum of 2)"
   ]
  },
  {
   "cell_type": "code",
   "execution_count": null,
   "id": "d1a3e37f-629d-494a-a800-4b72a8be7d23",
   "metadata": {},
   "outputs": [],
   "source": []
  },
  {
   "cell_type": "code",
   "execution_count": null,
   "id": "47585c3c-ebd4-44b1-bf5e-6a02639e26cb",
   "metadata": {},
   "outputs": [],
   "source": []
  },
  {
   "cell_type": "code",
   "execution_count": null,
   "id": "0b086920-5b96-41d5-b18a-2d8bc407a9d0",
   "metadata": {},
   "outputs": [],
   "source": []
  },
  {
   "cell_type": "markdown",
   "id": "6097c57b-acb5-4f53-ac25-d839a3010828",
   "metadata": {},
   "source": [
    "## Inference queries"
   ]
  },
  {
   "cell_type": "markdown",
   "id": "25f0a896-d4a2-4bb1-b15b-3f67dfd8652d",
   "metadata": {},
   "source": [
    "Now that we have a learned model, we can answer inference queries.\n",
    "Look at the tutorial on causality and counterfactuals from pyAgrum to get an idea on how this is done. \n",
    "\n",
    "https://pyagrum.readthedocs.io/en/1.15.1/notebooks/65-Causality_Counterfactual.html"
   ]
  },
  {
   "cell_type": "markdown",
   "id": "31daa3a6-c3f1-4f69-8def-b741d00eac31",
   "metadata": {},
   "source": [
    "<span style='color:red'>**TODO-04:**</span> Perform some counterfactual inference queries using the learned model above. Show and interpret at least two examples. You are free to choose which variables you want to investigate. "
   ]
  },
  {
   "cell_type": "code",
   "execution_count": null,
   "id": "97d70e5f-4538-47dc-bac6-c8ce5501429e",
   "metadata": {},
   "outputs": [],
   "source": []
  },
  {
   "cell_type": "code",
   "execution_count": null,
   "id": "79ed084e-1bca-4e33-a318-9e3f8b421213",
   "metadata": {},
   "outputs": [],
   "source": []
  },
  {
   "cell_type": "code",
   "execution_count": null,
   "id": "ffda5df1-b744-4c19-b499-875eec1d8972",
   "metadata": {},
   "outputs": [],
   "source": []
  },
  {
   "cell_type": "code",
   "execution_count": null,
   "id": "3fdd2dd9-4d23-475a-9240-94034455d4c5",
   "metadata": {},
   "outputs": [],
   "source": []
  },
  {
   "cell_type": "markdown",
   "id": "eb110c9c-0fbf-4f6d-90db-2fa5dbcea471",
   "metadata": {
    "jp-MarkdownHeadingCollapsed": true
   },
   "source": [
    "<span style='color:red'>**Question 03:**</span> Using the observations from the results of the previous cells, can you explain why standard deep learning models are not suitable for counterfactual reasoning?"
   ]
  },
  {
   "cell_type": "markdown",
   "id": "21c60a91-1c89-4a3d-bc39-bdecff21de14",
   "metadata": {},
   "source": [
    "<span style='color:red'>**A03:**</span>"
   ]
  },
  {
   "cell_type": "markdown",
   "id": "6c61cd6d-ce3c-404f-9e3a-5921e17b7aaa",
   "metadata": {},
   "source": [
    "# Solving Sudoku by specifying logic rules"
   ]
  },
  {
   "cell_type": "markdown",
   "id": "eb11eadd-560c-4631-9310-701f66629074",
   "metadata": {},
   "source": [
    "For this we will be using the z3-solver, which you can install using the command below.\n",
    "\n",
    "``pip install z3-solver``\n",
    "\n",
    "https://z3prover.github.io/papers/programmingz3.html#sec-terms-and-formulas"
   ]
  },
  {
   "cell_type": "markdown",
   "id": "82296186-94b0-4e16-8c14-8218e25684ec",
   "metadata": {},
   "source": [
    "### Background brief tutorial with z3 solver"
   ]
  },
  {
   "cell_type": "code",
   "execution_count": 52,
   "id": "e73aa438-108d-4550-8cc0-29fa9c221356",
   "metadata": {},
   "outputs": [],
   "source": [
    "import matplotlib as mpl\n",
    "import numpy as np\n",
    "from z3 import *"
   ]
  },
  {
   "cell_type": "markdown",
   "id": "5fc564f8-d5c7-4f6b-a364-f136cd914bb1",
   "metadata": {},
   "source": [
    "To use the z3 solver, we need to first instantiate a solver instance."
   ]
  },
  {
   "cell_type": "code",
   "execution_count": 53,
   "id": "7deb4dd2-5d33-487b-9a72-ccab1d83179b",
   "metadata": {},
   "outputs": [],
   "source": [
    "solver = Solver()"
   ]
  },
  {
   "cell_type": "markdown",
   "id": "960df6f9-7ae9-48f7-993f-101363c5efbe",
   "metadata": {},
   "source": [
    "Next, the only thing we need to do is to add the logical rules that would serve as the constraints in searching for a solution. z3 solver will handle the rest.\n",
    "\n",
    "To do this, we need to first define our atoms. For our case, we would only be dealing with integer atoms and you can define them as follows."
   ]
  },
  {
   "cell_type": "code",
   "execution_count": 54,
   "id": "2108fcb3-e660-4f79-acb1-63ff99b7b61f",
   "metadata": {},
   "outputs": [],
   "source": [
    "A = Int(\"A\")\n",
    "B = Int(\"B\")"
   ]
  },
  {
   "cell_type": "markdown",
   "id": "b024bf88-407e-4120-980a-5582a8326ce6",
   "metadata": {},
   "source": [
    "You can add rules using the `solver.add()` function. You can pass in expressions as a parameter."
   ]
  },
  {
   "cell_type": "code",
   "execution_count": 55,
   "id": "8127587a-b250-42da-ad31-48f65099306d",
   "metadata": {},
   "outputs": [],
   "source": [
    "solver.add(A > 0)"
   ]
  },
  {
   "cell_type": "markdown",
   "id": "1795f0ef-a003-4c93-882e-51b17950f36d",
   "metadata": {},
   "source": [
    "You could also use `And()` `Or()` operators. By default, all the rules you add are combined by `And`."
   ]
  },
  {
   "cell_type": "code",
   "execution_count": 56,
   "id": "740d15f3-5f75-4cb7-8804-07cf6468553b",
   "metadata": {},
   "outputs": [],
   "source": [
    "solver.add(Or(B < 0, B > 5))"
   ]
  },
  {
   "cell_type": "markdown",
   "id": "d38d7d14-e4a5-4676-8a72-f25e44795d2b",
   "metadata": {},
   "source": [
    "You can also use arithmetic operations."
   ]
  },
  {
   "cell_type": "code",
   "execution_count": 57,
   "id": "f35c9710-a749-483c-8b70-b04545bd22bd",
   "metadata": {},
   "outputs": [],
   "source": [
    "solver.add(A + B == 2)"
   ]
  },
  {
   "cell_type": "markdown",
   "id": "2408bd1e-292d-40aa-8116-9035fa339dd7",
   "metadata": {},
   "source": [
    "As well as `Distinct()` function."
   ]
  },
  {
   "cell_type": "code",
   "execution_count": 58,
   "id": "60aa7931-a851-4b58-8512-9dda6d10fb5c",
   "metadata": {},
   "outputs": [],
   "source": [
    "solver.add(Distinct(A,B))"
   ]
  },
  {
   "cell_type": "code",
   "execution_count": 59,
   "id": "59955df8-494f-4900-86d0-f96e514c9e1c",
   "metadata": {},
   "outputs": [
    {
     "name": "stdout",
     "output_type": "stream",
     "text": [
      "True\n",
      "[B = -1, A = 3]\n"
     ]
    }
   ],
   "source": [
    "print(solver.check() == sat) # sat is a special variable which the solver will return if the constraints are satisfiable \n",
    "print(solver.model()) # we can get a solution through the solver.model()"
   ]
  },
  {
   "cell_type": "markdown",
   "id": "7865b6e2-ab1d-4823-96d0-cef97675ad67",
   "metadata": {},
   "source": [
    "## Sudoku solver"
   ]
  },
  {
   "cell_type": "markdown",
   "id": "ce7faf91-7508-4d34-a4d6-bc89c5f73056",
   "metadata": {},
   "source": [
    "Now we are ready to work on the sudoku solver."
   ]
  },
  {
   "cell_type": "code",
   "execution_count": 60,
   "id": "c7680f24-bff4-4bf1-9261-1bdd916574bc",
   "metadata": {},
   "outputs": [],
   "source": [
    "rows = 'ABCDEFGHI'\n",
    "cols = '123456789'\n",
    "sudoku_boxes = np.array([[Int(\"{}{}\".format(r, c)) for c in cols] for r in rows])"
   ]
  },
  {
   "cell_type": "markdown",
   "id": "70f51620-55e8-47ac-968f-5f3ee6af5c05",
   "metadata": {},
   "source": [
    "In this case, the atoms are in the matrix `sudoku_boxes`. Note that it is currently in a numpy array for easy indexing. However, you will need to convert it to lists later on since some of the functions would expect an ordinary python list, which you can easily do by using the `.tolist()` function."
   ]
  },
  {
   "cell_type": "code",
   "execution_count": 61,
   "id": "9e77bef0-1fb2-4b48-9564-75be0c8d5824",
   "metadata": {},
   "outputs": [
    {
     "data": {
      "text/plain": [
       "array([[A1, A2, A3, A4, A5, A6, A7, A8, A9],\n",
       "       [B1, B2, B3, B4, B5, B6, B7, B8, B9],\n",
       "       [C1, C2, C3, C4, C5, C6, C7, C8, C9],\n",
       "       [D1, D2, D3, D4, D5, D6, D7, D8, D9],\n",
       "       [E1, E2, E3, E4, E5, E6, E7, E8, E9],\n",
       "       [F1, F2, F3, F4, F5, F6, F7, F8, F9],\n",
       "       [G1, G2, G3, G4, G5, G6, G7, G8, G9],\n",
       "       [H1, H2, H3, H4, H5, H6, H7, H8, H9],\n",
       "       [I1, I2, I3, I4, I5, I6, I7, I8, I9]], dtype=object)"
      ]
     },
     "execution_count": 61,
     "metadata": {},
     "output_type": "execute_result"
    }
   ],
   "source": [
    "sudoku_boxes"
   ]
  },
  {
   "cell_type": "code",
   "execution_count": 62,
   "id": "e23e8de1-4d1a-47a0-b04f-9e164d183d50",
   "metadata": {},
   "outputs": [
    {
     "data": {
      "text/plain": [
       "[[A1, A2, A3, A4, A5, A6, A7, A8, A9],\n",
       " [B1, B2, B3, B4, B5, B6, B7, B8, B9],\n",
       " [C1, C2, C3, C4, C5, C6, C7, C8, C9],\n",
       " [D1, D2, D3, D4, D5, D6, D7, D8, D9],\n",
       " [E1, E2, E3, E4, E5, E6, E7, E8, E9],\n",
       " [F1, F2, F3, F4, F5, F6, F7, F8, F9],\n",
       " [G1, G2, G3, G4, G5, G6, G7, G8, G9],\n",
       " [H1, H2, H3, H4, H5, H6, H7, H8, H9],\n",
       " [I1, I2, I3, I4, I5, I6, I7, I8, I9]]"
      ]
     },
     "execution_count": 62,
     "metadata": {},
     "output_type": "execute_result"
    }
   ],
   "source": [
    "sudoku_boxes.tolist()"
   ]
  },
  {
   "cell_type": "markdown",
   "id": "b825ec9c-7438-435f-b507-37263edfd026",
   "metadata": {},
   "source": [
    "Another useful function is the `chain` function from `itertools` library which flatten nested lists; `chain(*[[a, b], [c, d], ...]) == [a, b, c, d, ...]`"
   ]
  },
  {
   "cell_type": "code",
   "execution_count": 63,
   "id": "15380111-8e07-4296-9293-055aad718a46",
   "metadata": {},
   "outputs": [
    {
     "name": "stdout",
     "output_type": "stream",
     "text": [
      "[A1, A2, A3, A4, A5, A6, A7, A8, A9, B1, B2, B3, B4, B5, B6, B7, B8, B9, C1, C2, C3, C4, C5, C6, C7, C8, C9, D1, D2, D3, D4, D5, D6, D7, D8, D9, E1, E2, E3, E4, E5, E6, E7, E8, E9, F1, F2, F3, F4, F5, F6, F7, F8, F9, G1, G2, G3, G4, G5, G6, G7, G8, G9, H1, H2, H3, H4, H5, H6, H7, H8, H9, I1, I2, I3, I4, I5, I6, I7, I8, I9]\n"
     ]
    }
   ],
   "source": [
    "from itertools import chain\n",
    "print(list(chain(*sudoku_boxes)))"
   ]
  },
  {
   "cell_type": "markdown",
   "id": "ad52ad86-5849-4903-a495-b522e5e3dd3b",
   "metadata": {},
   "source": [
    "Another useful trick is the `*` operator in python. Particularly, it allows you to unpack a list and individually pass it as a parameter.\n",
    "\n",
    "For example,\n",
    "\n",
    "`letters = [\"a\", \"b\", \"c\", \"d\"]`\n",
    "\n",
    "`print(*letters)` is equivalent to `print(\"a\",\"b\",\"c\",\"d\")`\n",
    "\n"
   ]
  },
  {
   "cell_type": "code",
   "execution_count": 64,
   "id": "e41ac09c-b190-4db2-9bfa-3a7b62934185",
   "metadata": {},
   "outputs": [
    {
     "name": "stdout",
     "output_type": "stream",
     "text": [
      "['a', 'b', 'c', 'd']\n"
     ]
    }
   ],
   "source": [
    "letters = [\"a\", \"b\", \"c\", \"d\"]\n",
    "print(letters)"
   ]
  },
  {
   "cell_type": "code",
   "execution_count": 65,
   "id": "12f81058-b7f4-4000-8af4-a68dbdfb0598",
   "metadata": {},
   "outputs": [
    {
     "name": "stdout",
     "output_type": "stream",
     "text": [
      "a b c d\n"
     ]
    }
   ],
   "source": [
    "print(*letters)"
   ]
  },
  {
   "cell_type": "code",
   "execution_count": 66,
   "id": "19033510-2ecf-4f7a-a2dc-2baa31332b71",
   "metadata": {},
   "outputs": [
    {
     "name": "stdout",
     "output_type": "stream",
     "text": [
      "a b c d\n"
     ]
    }
   ],
   "source": [
    "print(\"a\",\"b\",\"c\",\"d\")"
   ]
  },
  {
   "cell_type": "markdown",
   "id": "7997d611-b116-4a3a-887e-4dc74a4f0d16",
   "metadata": {},
   "source": [
    "Let's instantiate the sudoku solver!"
   ]
  },
  {
   "cell_type": "code",
   "execution_count": 67,
   "id": "49f82aad-ecb2-4337-aee5-81aba3322b3b",
   "metadata": {},
   "outputs": [],
   "source": [
    "sudoku_solver = Solver()"
   ]
  },
  {
   "cell_type": "code",
   "execution_count": 68,
   "id": "d43b04d4-df8d-4d14-a671-be7960254e16",
   "metadata": {},
   "outputs": [],
   "source": [
    "###############################################################\n",
    "# TODO-05: Add the constraint that dictates the range of      #\n",
    "# values that each atom (each cell) in the sudoku can         #\n",
    "# have.                                                       #\n",
    "###############################################################\n",
    "\n",
    "for r in rows:\n",
    "    for c in cols:\n",
    "        sudoku_solver.add(And(sudoku_boxes[ord(r) - ord('A')][int(c) - 1] >= 1,\n",
    "                sudoku_boxes[ord(r) - ord('A')][int(c) - 1] <= 9))\n",
    "\n",
    "###############################################################\n",
    "#                    End of your code.                        #\n",
    "###############################################################"
   ]
  },
  {
   "cell_type": "code",
   "execution_count": 69,
   "id": "d1405db8-69e8-45ec-94aa-5337d449e5b4",
   "metadata": {},
   "outputs": [],
   "source": [
    "###############################################################\n",
    "# TODO-06: Add the constraint that each row has a distinct    #\n",
    "# value.                                                      #\n",
    "###############################################################\n",
    "# Adding the constraint that each row has distinct values\n",
    "for r in rows:\n",
    "    sudoku_solver.add(Distinct([sudoku_boxes[ord(r) - ord('A')][int(c) - 1] for c in cols]))\n",
    "\n",
    "###############################################################\n",
    "#                    End of your code.                        #\n",
    "###############################################################"
   ]
  },
  {
   "cell_type": "code",
   "execution_count": 70,
   "id": "7c804fdf-0355-450d-86ee-59415c728144",
   "metadata": {},
   "outputs": [],
   "source": [
    "###############################################################\n",
    "# TODO-07: Add the constraint that each column has a distinct #\n",
    "# value.                                                      #\n",
    "###############################################################\n",
    "# Adding the constraint that each column has distinct values\n",
    "for c in cols:\n",
    "    sudoku_solver.add(Distinct([sudoku_boxes[ord(r) - ord('A')][int(c) - 1] for r in rows]))\n",
    "\n",
    "\n",
    "###############################################################\n",
    "#                    End of your code.                        #\n",
    "###############################################################"
   ]
  },
  {
   "cell_type": "code",
   "execution_count": 71,
   "id": "5d9a1b51-ecd3-49ff-9049-fad6d85b33b5",
   "metadata": {},
   "outputs": [],
   "source": [
    "###############################################################\n",
    "# TODO-08: Add the constraint that each 3x3 block has a       #\n",
    "# distinct value.                                             #\n",
    "###############################################################\n",
    "for i in range(3):\n",
    "    for j in range(3):\n",
    "        block = [sudoku_boxes[3*i + k][3*j + l] for k in range(3) for l in range(3)]\n",
    "        sudoku_solver.add(Distinct(block))\n",
    "\n",
    "\n",
    "###############################################################\n",
    "#                    End of your code.                        #\n",
    "###############################################################"
   ]
  },
  {
   "cell_type": "markdown",
   "id": "1619861c-1606-4f72-870b-2ae95603ae6d",
   "metadata": {},
   "source": [
    "Now that we have encoded the general rules of sudoku, we need to account for the particular constraints in an instance of a sudoku puzzle. Particularly, the constraints that certain boxes already have a pre-determined value as specified by the instance of the sudoku puzzle."
   ]
  },
  {
   "cell_type": "markdown",
   "id": "b546e730-3b87-4fbb-9a77-fa5597d08557",
   "metadata": {},
   "source": [
    "We define below an instance of a sudoku board configuration. The 0 value indicates that the box does not have an assigned value and it will have to be determined by the solver."
   ]
  },
  {
   "cell_type": "code",
   "execution_count": 72,
   "id": "25c64800-e308-401a-895a-017e14f90af2",
   "metadata": {},
   "outputs": [],
   "source": [
    "board = ((0,0,0,2,0,7,1,3,0),\n",
    "        (5,4,0,0,6,0,0,8,0),\n",
    "        (0,1,0,9,0,0,0,5,2),\n",
    "        (9,5,0,0,8,2,0,0,6),\n",
    "        (0,0,6,0,0,0,7,0,0),\n",
    "        (3,0,0,5,9,0,0,4,8),\n",
    "        (8,2,0,0,0,4,0,7,0),\n",
    "        (0,3,0,0,2,0,0,6,9),\n",
    "        (0,6,5,1,0,9,0,0,0))\n"
   ]
  },
  {
   "cell_type": "code",
   "execution_count": 73,
   "id": "296ee9e3-4647-4d2b-a370-466d7a92cfc4",
   "metadata": {},
   "outputs": [],
   "source": [
    "###############################################################\n",
    "# TODO-09: Add the constraint specifying the given values of  #\n",
    "# the boxes as determined by the given sudoku board           #\n",
    "# configuration.                                              #\n",
    "###############################################################\n",
    "given_values = {\n",
    "    \"A1\": 5, \"A2\": 3, \"A5\": 7,\n",
    "    \"B1\": 6, \"B4\": 1, \"B5\": 9, \"B6\": 5,\n",
    "    \"C2\": 9, \"C3\": 8, \"C8\": 6,\n",
    "    \"D1\": 8, \"D5\": 6, \"D9\": 3,\n",
    "    \"E1\": 4, \"E4\": 8, \"E6\": 3, \"E9\": 1,\n",
    "    \"F1\": 7, \"F5\": 2, \"F9\": 6,\n",
    "    \"G2\": 6, \"G7\": 2, \"G8\": 8,\n",
    "    \"H4\": 4, \"H5\": 1, \"H6\": 9, \"H9\": 5,\n",
    "    \"I5\": 8, \"I8\": 7, \"I9\": 9\n",
    "}\n",
    "\n",
    "# Adding the given values as constraints\n",
    "for key, value in given_values.items():\n",
    "    sudoku_solver.add(sudoku_boxes[ord(key[0]) - ord('A')][int(key[1]) - 1] == value)\n",
    "\n",
    "\n",
    "###############################################################\n",
    "#                    End of your code.                        #\n",
    "###############################################################"
   ]
  },
  {
   "cell_type": "markdown",
   "id": "58625048-a3cb-46f9-80b4-a57756cce68b",
   "metadata": {},
   "source": [
    "The code below checks for the satisfiability and displays the found solution."
   ]
  },
  {
   "cell_type": "code",
   "execution_count": 74,
   "id": "0fec2167-ecef-462c-88ba-fc96546accb0",
   "metadata": {},
   "outputs": [
    {
     "name": "stdout",
     "output_type": "stream",
     "text": [
      " 5  3  4 | 6  7  8 | 9  1  2 \n",
      " 6  7  2 | 1  9  5 | 3  4  8 \n",
      " 1  9  8 | 3  4  2 | 5  6  7 \n",
      "---------|---------|---------\n",
      " 8  5  9 | 7  6  1 | 4  2  3 \n",
      " 4  2  6 | 8  5  3 | 7  9  1 \n",
      " 7  1  3 | 9  2  4 | 8  5  6 \n",
      "---------|---------|---------\n",
      " 9  6  1 | 5  3  7 | 2  8  4 \n",
      " 2  8  7 | 4  1  9 | 6  3  5 \n",
      " 3  4  5 | 2  8  6 | 1  7  9 \n"
     ]
    }
   ],
   "source": [
    "assert sudoku_solver.check() == sat, \"The solver didn't find a solution. Double check your constraints.\"\n",
    "for row, _boxes in enumerate(sudoku_boxes):\n",
    "    if row and row % 3 == 0:\n",
    "        print('-'*9+\"|\"+'-'*9+\"|\"+'-'*9)\n",
    "    for col, box in enumerate(_boxes):\n",
    "        if col and col % 3 == 0:\n",
    "            print('|', end='')\n",
    "        print(' {} '.format(sudoku_solver.model()[box]), end='')\n",
    "    print()"
   ]
  },
  {
   "cell_type": "markdown",
   "id": "ade8000b-8b85-4f73-8534-115d230aa2a2",
   "metadata": {
    "jp-MarkdownHeadingCollapsed": true
   },
   "source": [
    "<span style='color:red'>**Question 04:**</span> Discuss the advantages and disadvantages of this approach as compared with a machine learning sudoku solver in terms of scalability on space and time complexity as well as accuracy of the solutions."
   ]
  },
  {
   "cell_type": "markdown",
   "id": "53a3fed2-c1e4-49f3-86d7-0ecfdeef48a4",
   "metadata": {},
   "source": [
    "<span style='color:red'>**A04:**</span> Constraint Solver (Z3)\n",
    "Advantages:\n",
    "\n",
    "Accuracy:\n",
    "\n",
    "A constraint solver like Z3 guarantees accurate and optimal solutions for sudoku puzzles by systematically exploring all possibilities and applying logical rules. If a solution exists, Z3 will find it.\n",
    "\n",
    "Deterministic:\n",
    "\n",
    "The approach is deterministic, meaning that the same input will always produce the same output. There is no randomness in the solution process.\n",
    "\n",
    "Simplicity:\n",
    "\n",
    "Formulating sudoku constraints in Z3 is straightforward and intuitive. The rules of the game (distinct values in rows, columns, and blocks) directly map to logical constraints.\n",
    "\n",
    "Disadvantages:\n",
    "\n",
    "Scalability:\n",
    "\n",
    "Constraint solvers might struggle with very large or complex problems due to the exponential growth in the search space. For standard 9x9 sudoku, this isn't an issue, but larger puzzles could pose challenges.\n",
    "\n",
    "Space Complexity:\n",
    "\n",
    "The memory usage of constraint solvers can be high, especially for large problems with many variables and constraints. All possibilities need to be tracked, which can consume significant memory.\n",
    "\n",
    "Time Complexity:\n",
    "\n",
    "Solving constraint satisfaction problems can be time-consuming, especially for larger or more complex problems. The solver needs to explore a potentially vast search space, which can lead to long computation times.\n",
    "\n",
    "Machine Learning Sudoku Solver\n",
    "Advantages:\n",
    "\n",
    "Scalability:\n",
    "\n",
    "ML models, especially neural networks, can be trained on large datasets and can potentially handle large or complex puzzles efficiently once trained. They can generalize patterns learned from training data.\n",
    "\n",
    "Speed:\n",
    "\n",
    "Once an ML model is trained, it can make predictions (solve puzzles) very quickly. This makes it suitable for real-time applications or solving a large number of puzzles in a short time.\n",
    "\n",
    "Adaptability:\n",
    "\n",
    "ML models can be trained on various types of puzzles, including those with different rules or constraints, by simply providing appropriate training data. They can adapt to new patterns and variations.\n",
    "\n",
    "Disadvantages:\n",
    "\n",
    "Accuracy:\n",
    "\n",
    "ML models might not guarantee optimal or even correct solutions for all puzzles. They are probabilistic and depend on the quality and diversity of the training data. Some puzzles might not be solved accurately.\n",
    "\n",
    "Training Time:\n",
    "\n",
    "Training an ML model can be time-consuming and computationally expensive. It requires a significant amount of data and computational resources to achieve good performance.\n",
    "\n",
    "Complexity:\n",
    "\n",
    "Developing and training an ML model requires expertise in machine learning and access to appropriate tools and frameworks. It can be more complex and time-consuming compared to formulating logical constraints.\n",
    "\n",
    "Summary\n",
    "Constraint Solvers (Z3):\n",
    "\n",
    "Provide guaranteed accuracy and deterministic results.\n",
    "\n",
    "Can be resource-intensive in terms of space and time for large problems.\n",
    "\n",
    "Simple to formulate and solve small to medium-sized puzzles.\n",
    "\n",
    "Machine Learning Solvers:\n",
    "\n",
    "Offer high scalability and speed after training.\n",
    "\n",
    "Accuracy depends on training data and model performance.\n",
    "\n",
    "Require significant resources for training and may not always guarantee correct solutions."
   ]
  },
  {
   "cell_type": "code",
   "execution_count": null,
   "id": "cba37057-a973-4068-9010-f4708a0971d2",
   "metadata": {},
   "outputs": [],
   "source": []
  },
  {
   "cell_type": "markdown",
   "id": "cf3a3caa-9c29-486b-a376-118fdb40c009",
   "metadata": {},
   "source": [
    "<span style='color:red'>**Question:**</span> How much time did it take you to answer this notebook?"
   ]
  },
  {
   "cell_type": "markdown",
   "id": "f335c2fd-c0aa-449e-ab5a-b0abdcc1ea49",
   "metadata": {},
   "source": [
    "<span style='color:red'>**A:**</span> 1 hour"
   ]
  },
  {
   "cell_type": "code",
   "execution_count": null,
   "id": "1968a541-87d2-4de1-b134-e0f03b273d82",
   "metadata": {},
   "outputs": [],
   "source": []
  }
 ],
 "metadata": {
  "kernelspec": {
   "display_name": "Python 3",
   "language": "python",
   "name": "python3"
  },
  "language_info": {
   "codemirror_mode": {
    "name": "ipython",
    "version": 3
   },
   "file_extension": ".py",
   "mimetype": "text/x-python",
   "name": "python",
   "nbconvert_exporter": "python",
   "pygments_lexer": "ipython3",
   "version": "3.11.9"
  }
 },
 "nbformat": 4,
 "nbformat_minor": 5
}
