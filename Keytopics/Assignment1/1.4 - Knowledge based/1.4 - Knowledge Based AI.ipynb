{
 "cells": [
  {
   "cell_type": "markdown",
   "id": "497c5029-2760-4b27-914e-b2e0d67b6007",
   "metadata": {},
   "source": [
    "## Instructions\n",
    "* Read each cell and implement the **TODOs** sequentially. The markdown/text cells also contain instructions which you need to follow to get the whole notebook working.\n",
    "* Do not change the variable names unless the instructor allows you to.\n",
    "* Do not delete the **TODO** comment blocks.\n",
    "* Aside from the TODOs, there will be questions embedded in the notebook and a cell for you to provide your answer (denoted with A:). Answer all the markdown/text cells with **\"A: \"** on them. \n",
    "* You are expected to search how to some functions work on the Internet or via the docs. \n",
    "* You may add new cells for \"scrap work\".\n",
    "* The notebooks will undergo a \"Restart and Run All\" command, so make sure that your code is working properly.\n",
    "* You are expected to understand the data set loading and processing separately from this class.\n",
    "* You may not reproduce this notebook or share them to anyone."
   ]
  },
  {
   "cell_type": "markdown",
   "id": "a493935d-c9e8-4565-b7f7-1e5a097cdb3e",
   "metadata": {},
   "source": [
    "Place your answers to the questions directly inline on the same cell as **A:**\n",
    "\n",
    "For example:"
   ]
  },
  {
   "cell_type": "markdown",
   "id": "4f543bdc-050b-4570-83cd-42de57add7c7",
   "metadata": {},
   "source": [
    "<span style='color:red'>**Question 00:**</span> What is your favorite ice cream flavor?"
   ]
  },
  {
   "cell_type": "markdown",
   "id": "4813f195-d84a-49e9-8639-961c070fff35",
   "metadata": {},
   "source": [
    "<span style='color:red'>**A00:**</span> My favorite flavor ice cream flavor is pistachio."
   ]
  },
  {
   "cell_type": "markdown",
   "id": "b1a0e5a2-e503-4ff3-ad72-02481c808c18",
   "metadata": {},
   "source": [
    "# Assignment 1.4 - Knowledge Based AI Notebook \n",
    "In this notebook, you will be experimenting on Bayesian networks on the Dutch census dataset and implementing a simple sudoku solver using logic rules."
   ]
  },
  {
   "cell_type": "markdown",
   "id": "a7808fb8-8ce0-4039-bfec-6e29f812e2d6",
   "metadata": {},
   "source": [
    "# Bayesian Networks"
   ]
  },
  {
   "cell_type": "markdown",
   "id": "a344975d-9f8e-43a9-8d91-6693b441dad7",
   "metadata": {},
   "source": [
    "For this case study, we are going to look at Bayesian networks. \n",
    "A Bayesian network is a directed acyclic graph that represent the dependency structure of a set of variables. \n",
    "We can use this model to see how changes in one variable affect one another and perform inference queries."
   ]
  },
  {
   "cell_type": "code",
   "execution_count": 1,
   "id": "7f55a2a6-cb09-4b84-882b-97326335994a",
   "metadata": {},
   "outputs": [
    {
     "name": "stdout",
     "output_type": "stream",
     "text": [
      "Graphviz is not installed. \n",
      "  Please install this program in order to visualize graphical models in pyAgrum. \n",
      "  See https://graphviz.org/download/\n"
     ]
    }
   ],
   "source": [
    "import numpy as np\n",
    "import pandas as pd\n",
    "import os\n",
    "from pathlib import Path\n",
    "import matplotlib.pyplot as plt\n",
    "import pyAgrum as gum\n",
    "import pyAgrum.lib.notebook as gnb\n",
    "import pyAgrum.causal as csl\n",
    "import pyAgrum.causal.notebook as cslnb\n",
    "import scipy.stats\n",
    "from sklearn import preprocessing"
   ]
  },
  {
   "cell_type": "markdown",
   "id": "6bbf0c69-554d-4a62-9d15-1ac3ed53230a",
   "metadata": {},
   "source": [
    "Let's start first with loading the dataset that we are gonna be using."
   ]
  },
  {
   "cell_type": "markdown",
   "id": "4396ac2f-e436-4276-b20e-db2756921e97",
   "metadata": {},
   "source": [
    "### The Dutch Virtual Census of 2001 dataset\n",
    "https://microdata.worldbank.org/index.php/catalog/2102/study-description\n",
    "\n",
    "The dataset includes 60,420 samples where each sample is described by 12 variables. The table below shows an overview of the variables.\n",
    "Note that this dataset is a pre-processed version of the original where the range of values have already been discretized (converted to a small set of categories) for simplicity."
   ]
  },
  {
   "cell_type": "markdown",
   "id": "05527138-aa81-472f-ae42-d6e0cd186588",
   "metadata": {},
   "source": [
    "| Attributes           | Type        | Values                         | Description                                                    |\n",
    "| -------------------- | ----------- | ------------------------------ | -------------------------------------------------------------- |\n",
    "| sex                  | Binary      | {0: Female, 1: Male}                  | The biological sex of the person                               |\n",
    "| age                  | Categorical | 12                             | The age group of the person (0–4, 5–9, etc.)                   |\n",
    "| household_position   | Categorical | 8                              | The relationship to household head (spouse, child, etc.)       |\n",
    "| household_size       | Categorical | 6                              | The size of the household the person belongs to                |\n",
    "| prev_residence_place | Binary      | {0: non-Netherlands, 1: Netherlands} | The place of the person's residence prior to the Census        |\n",
    "| citizenship          | Categorical | 3                              | The person's citizenship status                                |\n",
    "| country_birth        | Categorical | 3                              | Whether the person was born in the Netherlands or elsewhere    |\n",
    "| edu_level            | Categorical | 6                              | The person's level of educational attainment                   |\n",
    "| economic_status      | Categorical | 3                              | The person's economic status (class of worker)                 |\n",
    "| cur_eco_activity     | Categorical | 12                             | The current economic activity                                  |\n",
    "| marital_status       | Categorical | 4                              | The person's current marital status according to law or custom |\n",
    "| occupation           | Binary      | {0: low-level, 1: high-level}                          |  The person's occupation (0: low-level, 1: high-level)         |"
   ]
  },
  {
   "cell_type": "code",
   "execution_count": 2,
   "id": "f012d082-a7b8-45f7-a535-2e42ab07b5ad",
   "metadata": {},
   "outputs": [
    {
     "data": {
      "text/html": [
       "<div>\n",
       "<style scoped>\n",
       "    .dataframe tbody tr th:only-of-type {\n",
       "        vertical-align: middle;\n",
       "    }\n",
       "\n",
       "    .dataframe tbody tr th {\n",
       "        vertical-align: top;\n",
       "    }\n",
       "\n",
       "    .dataframe thead th {\n",
       "        text-align: right;\n",
       "    }\n",
       "</style>\n",
       "<table border=\"1\" class=\"dataframe\">\n",
       "  <thead>\n",
       "    <tr style=\"text-align: right;\">\n",
       "      <th></th>\n",
       "      <th>sex</th>\n",
       "      <th>age</th>\n",
       "      <th>household_position</th>\n",
       "      <th>household_size</th>\n",
       "      <th>prev_residence_place</th>\n",
       "      <th>citizenship</th>\n",
       "      <th>country_birth</th>\n",
       "      <th>edu_level</th>\n",
       "      <th>economic_status</th>\n",
       "      <th>cur_eco_activity</th>\n",
       "      <th>marital_status</th>\n",
       "      <th>occupation</th>\n",
       "    </tr>\n",
       "  </thead>\n",
       "  <tbody>\n",
       "    <tr>\n",
       "      <th>0</th>\n",
       "      <td>1</td>\n",
       "      <td>6</td>\n",
       "      <td>3</td>\n",
       "      <td>1</td>\n",
       "      <td>1</td>\n",
       "      <td>1</td>\n",
       "      <td>1</td>\n",
       "      <td>5</td>\n",
       "      <td>0</td>\n",
       "      <td>7</td>\n",
       "      <td>1</td>\n",
       "      <td>1</td>\n",
       "    </tr>\n",
       "    <tr>\n",
       "      <th>1</th>\n",
       "      <td>0</td>\n",
       "      <td>10</td>\n",
       "      <td>2</td>\n",
       "      <td>2</td>\n",
       "      <td>1</td>\n",
       "      <td>1</td>\n",
       "      <td>1</td>\n",
       "      <td>2</td>\n",
       "      <td>0</td>\n",
       "      <td>1</td>\n",
       "      <td>2</td>\n",
       "      <td>0</td>\n",
       "    </tr>\n",
       "    <tr>\n",
       "      <th>2</th>\n",
       "      <td>1</td>\n",
       "      <td>8</td>\n",
       "      <td>2</td>\n",
       "      <td>2</td>\n",
       "      <td>1</td>\n",
       "      <td>1</td>\n",
       "      <td>1</td>\n",
       "      <td>2</td>\n",
       "      <td>0</td>\n",
       "      <td>1</td>\n",
       "      <td>2</td>\n",
       "      <td>1</td>\n",
       "    </tr>\n",
       "    <tr>\n",
       "      <th>3</th>\n",
       "      <td>1</td>\n",
       "      <td>12</td>\n",
       "      <td>1</td>\n",
       "      <td>1</td>\n",
       "      <td>1</td>\n",
       "      <td>1</td>\n",
       "      <td>1</td>\n",
       "      <td>1</td>\n",
       "      <td>0</td>\n",
       "      <td>9</td>\n",
       "      <td>2</td>\n",
       "      <td>0</td>\n",
       "    </tr>\n",
       "    <tr>\n",
       "      <th>4</th>\n",
       "      <td>0</td>\n",
       "      <td>4</td>\n",
       "      <td>0</td>\n",
       "      <td>3</td>\n",
       "      <td>1</td>\n",
       "      <td>1</td>\n",
       "      <td>1</td>\n",
       "      <td>2</td>\n",
       "      <td>0</td>\n",
       "      <td>10</td>\n",
       "      <td>1</td>\n",
       "      <td>0</td>\n",
       "    </tr>\n",
       "  </tbody>\n",
       "</table>\n",
       "</div>"
      ],
      "text/plain": [
       "   sex  age  household_position  household_size  prev_residence_place  \\\n",
       "0    1    6                   3               1                     1   \n",
       "1    0   10                   2               2                     1   \n",
       "2    1    8                   2               2                     1   \n",
       "3    1   12                   1               1                     1   \n",
       "4    0    4                   0               3                     1   \n",
       "\n",
       "   citizenship  country_birth  edu_level  economic_status  cur_eco_activity  \\\n",
       "0            1              1          5                0                 7   \n",
       "1            1              1          2                0                 1   \n",
       "2            1              1          2                0                 1   \n",
       "3            1              1          1                0                 9   \n",
       "4            1              1          2                0                10   \n",
       "\n",
       "   marital_status  occupation  \n",
       "0               1           1  \n",
       "1               2           0  \n",
       "2               2           1  \n",
       "3               2           0  \n",
       "4               1           0  "
      ]
     },
     "execution_count": 2,
     "metadata": {},
     "output_type": "execute_result"
    }
   ],
   "source": [
    "df = pd.read_csv(\"dutch_preprocessed.csv\")\n",
    "df.head()"
   ]
  },
  {
   "cell_type": "markdown",
   "id": "bea6595f-2172-4ef3-ab30-2366face4dec",
   "metadata": {},
   "source": [
    "## Defining graph structure"
   ]
  },
  {
   "cell_type": "markdown",
   "id": "8f370ab8-f540-421c-aa40-3989ce0fc8d9",
   "metadata": {},
   "source": [
    "One way to incorporate domain knowledge is by defining structure of this dependency graph.\n",
    "The structure of the graph would impose certain constraints and determine how the different variables affect one another."
   ]
  },
  {
   "cell_type": "markdown",
   "id": "161bea93-cfea-485c-9aae-da7c229190a4",
   "metadata": {},
   "source": [
    "Since we do not know the dependency graph for this dataset, we can try to first infer it from data."
   ]
  },
  {
   "cell_type": "markdown",
   "id": "6f6f47a4-8352-4e89-97d1-73450bb8c8e3",
   "metadata": {},
   "source": [
    "<span style='color:red'>**TODO-01:**</span> The pyAgrum library has a tutorial below on how to learn the structure from data. Follow this tutorial and learn a plausible structure for this dutch census dataset.\n",
    "\n",
    "https://pyagrum.readthedocs.io/en/1.15.1/notebooks/31-Learning_structuralLearning.html\n",
    "\n",
    "Don't forget to visualize the graph. You can add as many cells below as necessary."
   ]
  },
  {
   "cell_type": "code",
   "execution_count": null,
   "id": "09105e6a-45db-4386-9a60-7c6881549aad",
   "metadata": {},
   "outputs": [],
   "source": [
    "# Learning the structure\n",
    "learner = gum.BNLearner(df)\n",
    "learner.useLocalSearchWithTabuList()\n",
    "bn = learner.learnBN()\n",
    "\n",
    "# Visualize the graph\n",
    "gnb.showBN(bn)\n"
   ]
  },
  {
   "cell_type": "code",
   "execution_count": null,
   "id": "3031b3fc-8c17-476a-89cf-7af311ddb409",
   "metadata": {},
   "outputs": [],
   "source": []
  },
  {
   "cell_type": "code",
   "execution_count": null,
   "id": "0feea5a1-720b-4aa4-9346-afdc562d5422",
   "metadata": {},
   "outputs": [],
   "source": []
  },
  {
   "cell_type": "markdown",
   "id": "4cd32f28-876f-4617-9a0e-f7ced52b58d0",
   "metadata": {},
   "source": [
    "<span style='color:red'>**Question 01:**</span> Do the relationships learned only from the data make sense? Why or why not? Explain your answer."
   ]
  },
  {
   "cell_type": "markdown",
   "id": "37e59b28-1f3c-4fe3-af0f-e8352d371d59",
   "metadata": {},
   "source": [
    "<span style='color:red'>**A01:**</span>"
   ]
  },
  {
   "cell_type": "markdown",
   "id": "8e507e71-91ee-4243-9477-11daffdc866f",
   "metadata": {},
   "source": [
    "<span style='color:red'>**Question 02:**</span> If you were going to modify certain relationships, which ones would you change? How will your graph look like?\n"
   ]
  },
  {
   "cell_type": "markdown",
   "id": "c5370120-cb5f-4e07-93b6-e65bf367c6d4",
   "metadata": {},
   "source": [
    "<span style='color:red'>**A02:**</span>"
   ]
  },
  {
   "cell_type": "markdown",
   "id": "26b829b7-f16f-4eed-936b-ef19def902b7",
   "metadata": {},
   "source": [
    "<span style='color:red'>**TODO-02:**</span> Incorporate the modifications to the graph to align with your domain knowledge.\n",
    "\n",
    "You can incorporate this in the graph learning by adding mandatory arcs.\n",
    "\n",
    "For example, \"I know that smoking causes cancer\"\n",
    "\n",
    "``learner.addMandatoryArc(\"smoking\",\"lung_cancer\") # smoking->lung_cancer``\n",
    "\n",
    "Ofcourse there's its opposite where you add forbidden arcs. `learner.addForbiddenArc()`\n",
    "\n",
    "You can optionally define the entire graph yourself using `addArc` function.\n",
    "\n",
    "Don't forget to visualize the graph. You can add as many cells below as necessary."
   ]
  },
  {
   "cell_type": "code",
   "execution_count": null,
   "id": "ba0bcb8c-f4e5-4b4f-89bb-24279711f526",
   "metadata": {},
   "outputs": [],
   "source": []
  },
  {
   "cell_type": "code",
   "execution_count": null,
   "id": "cd4b857f-8ea0-41d2-934e-eff39e2121a9",
   "metadata": {},
   "outputs": [],
   "source": []
  },
  {
   "cell_type": "code",
   "execution_count": null,
   "id": "c4abf915-fee9-4138-976d-a05b856e4a52",
   "metadata": {},
   "outputs": [],
   "source": []
  },
  {
   "cell_type": "code",
   "execution_count": null,
   "id": "66f2673f-d25f-4467-ae46-3776a56514d8",
   "metadata": {},
   "outputs": [],
   "source": []
  },
  {
   "cell_type": "markdown",
   "id": "f4803ac1-56f2-4694-ace1-5005c463acb8",
   "metadata": {},
   "source": [
    "## Learning the parameters\n",
    "Now that you have defined a graph, we need to learn the parameters. In this case, these parameters would correspond to the conditional probabilities for each node given its parents."
   ]
  },
  {
   "cell_type": "markdown",
   "id": "9ebec3aa-40cf-408a-aa29-7027e530ed1f",
   "metadata": {},
   "source": [
    "<span style='color:red'>**TODO-03:**</span> Follow the tutorial on learning parameters from a database (in this case a csv file) and learn the parameters for the dutch census dataset.\n",
    "                                                                                                                       \n",
    "https://pyagrum.readthedocs.io/en/1.15.1/notebooks/31-Learning_structuralLearning.html#Parameters-learning-from-the-database\n",
    "\n",
    "Visualize some of the learned conditional probability tables (cpt). (Minimum of 2)"
   ]
  },
  {
   "cell_type": "code",
   "execution_count": null,
   "id": "d1a3e37f-629d-494a-a800-4b72a8be7d23",
   "metadata": {},
   "outputs": [],
   "source": []
  },
  {
   "cell_type": "code",
   "execution_count": null,
   "id": "47585c3c-ebd4-44b1-bf5e-6a02639e26cb",
   "metadata": {},
   "outputs": [],
   "source": []
  },
  {
   "cell_type": "code",
   "execution_count": null,
   "id": "0b086920-5b96-41d5-b18a-2d8bc407a9d0",
   "metadata": {},
   "outputs": [],
   "source": []
  },
  {
   "cell_type": "markdown",
   "id": "6097c57b-acb5-4f53-ac25-d839a3010828",
   "metadata": {},
   "source": [
    "## Inference queries"
   ]
  },
  {
   "cell_type": "markdown",
   "id": "25f0a896-d4a2-4bb1-b15b-3f67dfd8652d",
   "metadata": {},
   "source": [
    "Now that we have a learned model, we can answer inference queries.\n",
    "Look at the tutorial on causality and counterfactuals from pyAgrum to get an idea on how this is done. \n",
    "\n",
    "https://pyagrum.readthedocs.io/en/1.15.1/notebooks/65-Causality_Counterfactual.html"
   ]
  },
  {
   "cell_type": "markdown",
   "id": "31daa3a6-c3f1-4f69-8def-b741d00eac31",
   "metadata": {},
   "source": [
    "<span style='color:red'>**TODO-04:**</span> Perform some counterfactual inference queries using the learned model above. Show and interpret at least two examples. You are free to choose which variables you want to investigate. "
   ]
  },
  {
   "cell_type": "code",
   "execution_count": null,
   "id": "97d70e5f-4538-47dc-bac6-c8ce5501429e",
   "metadata": {},
   "outputs": [],
   "source": []
  },
  {
   "cell_type": "code",
   "execution_count": null,
   "id": "79ed084e-1bca-4e33-a318-9e3f8b421213",
   "metadata": {},
   "outputs": [],
   "source": []
  },
  {
   "cell_type": "code",
   "execution_count": null,
   "id": "ffda5df1-b744-4c19-b499-875eec1d8972",
   "metadata": {},
   "outputs": [],
   "source": []
  },
  {
   "cell_type": "code",
   "execution_count": null,
   "id": "3fdd2dd9-4d23-475a-9240-94034455d4c5",
   "metadata": {},
   "outputs": [],
   "source": []
  },
  {
   "cell_type": "markdown",
   "id": "eb110c9c-0fbf-4f6d-90db-2fa5dbcea471",
   "metadata": {
    "jp-MarkdownHeadingCollapsed": true
   },
   "source": [
    "<span style='color:red'>**Question 03:**</span> Using the observations from the results of the previous cells, can you explain why standard deep learning models are not suitable for counterfactual reasoning?"
   ]
  },
  {
   "cell_type": "markdown",
   "id": "21c60a91-1c89-4a3d-bc39-bdecff21de14",
   "metadata": {},
   "source": [
    "<span style='color:red'>**A03:**</span>"
   ]
  },
  {
   "cell_type": "markdown",
   "id": "6c61cd6d-ce3c-404f-9e3a-5921e17b7aaa",
   "metadata": {},
   "source": [
    "# Solving Sudoku by specifying logic rules"
   ]
  },
  {
   "cell_type": "markdown",
   "id": "eb11eadd-560c-4631-9310-701f66629074",
   "metadata": {},
   "source": [
    "For this we will be using the z3-solver, which you can install using the command below.\n",
    "\n",
    "``pip install z3-solver``\n",
    "\n",
    "https://z3prover.github.io/papers/programmingz3.html#sec-terms-and-formulas"
   ]
  },
  {
   "cell_type": "markdown",
   "id": "82296186-94b0-4e16-8c14-8218e25684ec",
   "metadata": {},
   "source": [
    "### Background brief tutorial with z3 solver"
   ]
  },
  {
   "cell_type": "code",
   "execution_count": null,
   "id": "e73aa438-108d-4550-8cc0-29fa9c221356",
   "metadata": {},
   "outputs": [],
   "source": [
    "import matplotlib as mpl\n",
    "import numpy as np\n",
    "from z3 import *"
   ]
  },
  {
   "cell_type": "markdown",
   "id": "5fc564f8-d5c7-4f6b-a364-f136cd914bb1",
   "metadata": {},
   "source": [
    "To use the z3 solver, we need to first instantiate a solver instance."
   ]
  },
  {
   "cell_type": "code",
   "execution_count": null,
   "id": "7deb4dd2-5d33-487b-9a72-ccab1d83179b",
   "metadata": {},
   "outputs": [],
   "source": [
    "solver = Solver()"
   ]
  },
  {
   "cell_type": "markdown",
   "id": "960df6f9-7ae9-48f7-993f-101363c5efbe",
   "metadata": {},
   "source": [
    "Next, the only thing we need to do is to add the logical rules that would serve as the constraints in searching for a solution. z3 solver will handle the rest.\n",
    "\n",
    "To do this, we need to first define our atoms. For our case, we would only be dealing with integer atoms and you can define them as follows."
   ]
  },
  {
   "cell_type": "code",
   "execution_count": null,
   "id": "2108fcb3-e660-4f79-acb1-63ff99b7b61f",
   "metadata": {},
   "outputs": [],
   "source": [
    "A = Int(\"A\")\n",
    "B = Int(\"B\")"
   ]
  },
  {
   "cell_type": "markdown",
   "id": "b024bf88-407e-4120-980a-5582a8326ce6",
   "metadata": {},
   "source": [
    "You can add rules using the `solver.add()` function. You can pass in expressions as a parameter."
   ]
  },
  {
   "cell_type": "code",
   "execution_count": null,
   "id": "8127587a-b250-42da-ad31-48f65099306d",
   "metadata": {},
   "outputs": [],
   "source": [
    "solver.add(A > 0)"
   ]
  },
  {
   "cell_type": "markdown",
   "id": "1795f0ef-a003-4c93-882e-51b17950f36d",
   "metadata": {},
   "source": [
    "You could also use `And()` `Or()` operators. By default, all the rules you add are combined by `And`."
   ]
  },
  {
   "cell_type": "code",
   "execution_count": null,
   "id": "740d15f3-5f75-4cb7-8804-07cf6468553b",
   "metadata": {},
   "outputs": [],
   "source": [
    "solver.add(Or(B < 0, B > 5))"
   ]
  },
  {
   "cell_type": "markdown",
   "id": "d38d7d14-e4a5-4676-8a72-f25e44795d2b",
   "metadata": {},
   "source": [
    "You can also use arithmetic operations."
   ]
  },
  {
   "cell_type": "code",
   "execution_count": null,
   "id": "f35c9710-a749-483c-8b70-b04545bd22bd",
   "metadata": {},
   "outputs": [],
   "source": [
    "solver.add(A + B == 2)"
   ]
  },
  {
   "cell_type": "markdown",
   "id": "2408bd1e-292d-40aa-8116-9035fa339dd7",
   "metadata": {},
   "source": [
    "As well as `Distinct()` function."
   ]
  },
  {
   "cell_type": "code",
   "execution_count": null,
   "id": "60aa7931-a851-4b58-8512-9dda6d10fb5c",
   "metadata": {},
   "outputs": [],
   "source": [
    "solver.add(Distinct(A,B))"
   ]
  },
  {
   "cell_type": "code",
   "execution_count": null,
   "id": "59955df8-494f-4900-86d0-f96e514c9e1c",
   "metadata": {},
   "outputs": [],
   "source": [
    "print(solver.check() == sat) # sat is a special variable which the solver will return if the constraints are satisfiable \n",
    "print(solver.model()) # we can get a solution through the solver.model()"
   ]
  },
  {
   "cell_type": "markdown",
   "id": "7865b6e2-ab1d-4823-96d0-cef97675ad67",
   "metadata": {},
   "source": [
    "## Sudoku solver"
   ]
  },
  {
   "cell_type": "markdown",
   "id": "ce7faf91-7508-4d34-a4d6-bc89c5f73056",
   "metadata": {},
   "source": [
    "Now we are ready to work on the sudoku solver."
   ]
  },
  {
   "cell_type": "code",
   "execution_count": null,
   "id": "c7680f24-bff4-4bf1-9261-1bdd916574bc",
   "metadata": {},
   "outputs": [],
   "source": [
    "rows = 'ABCDEFGHI'\n",
    "cols = '123456789'\n",
    "sudoku_boxes = np.array([[Int(\"{}{}\".format(r, c)) for c in cols] for r in rows])"
   ]
  },
  {
   "cell_type": "markdown",
   "id": "70f51620-55e8-47ac-968f-5f3ee6af5c05",
   "metadata": {},
   "source": [
    "In this case, the atoms are in the matrix `sudoku_boxes`. Note that it is currently in a numpy array for easy indexing. However, you will need to convert it to lists later on since some of the functions would expect an ordinary python list, which you can easily do by using the `.tolist()` function."
   ]
  },
  {
   "cell_type": "code",
   "execution_count": null,
   "id": "9e77bef0-1fb2-4b48-9564-75be0c8d5824",
   "metadata": {},
   "outputs": [],
   "source": [
    "sudoku_boxes"
   ]
  },
  {
   "cell_type": "code",
   "execution_count": null,
   "id": "e23e8de1-4d1a-47a0-b04f-9e164d183d50",
   "metadata": {},
   "outputs": [],
   "source": [
    "sudoku_boxes.tolist()"
   ]
  },
  {
   "cell_type": "markdown",
   "id": "b825ec9c-7438-435f-b507-37263edfd026",
   "metadata": {},
   "source": [
    "Another useful function is the `chain` function from `itertools` library which flatten nested lists; `chain(*[[a, b], [c, d], ...]) == [a, b, c, d, ...]`"
   ]
  },
  {
   "cell_type": "code",
   "execution_count": null,
   "id": "15380111-8e07-4296-9293-055aad718a46",
   "metadata": {},
   "outputs": [],
   "source": [
    "from itertools import chain\n",
    "print(list(chain(*sudoku_boxes)))"
   ]
  },
  {
   "cell_type": "markdown",
   "id": "ad52ad86-5849-4903-a495-b522e5e3dd3b",
   "metadata": {},
   "source": [
    "Another useful trick is the `*` operator in python. Particularly, it allows you to unpack a list and individually pass it as a parameter.\n",
    "\n",
    "For example,\n",
    "\n",
    "`letters = [\"a\", \"b\", \"c\", \"d\"]`\n",
    "\n",
    "`print(*letters)` is equivalent to `print(\"a\",\"b\",\"c\",\"d\")`\n",
    "\n"
   ]
  },
  {
   "cell_type": "code",
   "execution_count": null,
   "id": "e41ac09c-b190-4db2-9bfa-3a7b62934185",
   "metadata": {},
   "outputs": [],
   "source": [
    "letters = [\"a\", \"b\", \"c\", \"d\"]\n",
    "print(letters)"
   ]
  },
  {
   "cell_type": "code",
   "execution_count": null,
   "id": "12f81058-b7f4-4000-8af4-a68dbdfb0598",
   "metadata": {},
   "outputs": [],
   "source": [
    "print(*letters)"
   ]
  },
  {
   "cell_type": "code",
   "execution_count": null,
   "id": "19033510-2ecf-4f7a-a2dc-2baa31332b71",
   "metadata": {},
   "outputs": [],
   "source": [
    "print(\"a\",\"b\",\"c\",\"d\")"
   ]
  },
  {
   "cell_type": "markdown",
   "id": "7997d611-b116-4a3a-887e-4dc74a4f0d16",
   "metadata": {},
   "source": [
    "Let's instantiate the sudoku solver!"
   ]
  },
  {
   "cell_type": "code",
   "execution_count": null,
   "id": "49f82aad-ecb2-4337-aee5-81aba3322b3b",
   "metadata": {},
   "outputs": [],
   "source": [
    "sudoku_solver = Solver()"
   ]
  },
  {
   "cell_type": "code",
   "execution_count": null,
   "id": "d43b04d4-df8d-4d14-a671-be7960254e16",
   "metadata": {},
   "outputs": [],
   "source": [
    "###############################################################\n",
    "# TODO-05: Add the constraint that dictates the range of      #\n",
    "# values that each atom (each cell) in the sudoku can         #\n",
    "# have.                                                       #\n",
    "###############################################################\n",
    "\n",
    "\n",
    "\n",
    "###############################################################\n",
    "#                    End of your code.                        #\n",
    "###############################################################"
   ]
  },
  {
   "cell_type": "code",
   "execution_count": null,
   "id": "d1405db8-69e8-45ec-94aa-5337d449e5b4",
   "metadata": {},
   "outputs": [],
   "source": [
    "###############################################################\n",
    "# TODO-06: Add the constraint that each row has a distinct    #\n",
    "# value.                                                      #\n",
    "###############################################################\n",
    "\n",
    "\n",
    "###############################################################\n",
    "#                    End of your code.                        #\n",
    "###############################################################"
   ]
  },
  {
   "cell_type": "code",
   "execution_count": null,
   "id": "7c804fdf-0355-450d-86ee-59415c728144",
   "metadata": {},
   "outputs": [],
   "source": [
    "###############################################################\n",
    "# TODO-07: Add the constraint that each column has a distinct #\n",
    "# value.                                                      #\n",
    "###############################################################\n",
    "\n",
    "\n",
    "###############################################################\n",
    "#                    End of your code.                        #\n",
    "###############################################################"
   ]
  },
  {
   "cell_type": "code",
   "execution_count": null,
   "id": "5d9a1b51-ecd3-49ff-9049-fad6d85b33b5",
   "metadata": {},
   "outputs": [],
   "source": [
    "###############################################################\n",
    "# TODO-08: Add the constraint that each 3x3 block has a       #\n",
    "# distinct value.                                             #\n",
    "###############################################################\n",
    "\n",
    "\n",
    "###############################################################\n",
    "#                    End of your code.                        #\n",
    "###############################################################"
   ]
  },
  {
   "cell_type": "markdown",
   "id": "1619861c-1606-4f72-870b-2ae95603ae6d",
   "metadata": {},
   "source": [
    "Now that we have encoded the general rules of sudoku, we need to account for the particular constraints in an instance of a sudoku puzzle. Particularly, the constraints that certain boxes already have a pre-determined value as specified by the instance of the sudoku puzzle."
   ]
  },
  {
   "cell_type": "markdown",
   "id": "b546e730-3b87-4fbb-9a77-fa5597d08557",
   "metadata": {},
   "source": [
    "We define below an instance of a sudoku board configuration. The 0 value indicates that the box does not have an assigned value and it will have to be determined by the solver."
   ]
  },
  {
   "cell_type": "code",
   "execution_count": null,
   "id": "25c64800-e308-401a-895a-017e14f90af2",
   "metadata": {},
   "outputs": [],
   "source": [
    "board = ((0,0,0,2,0,7,1,3,0),\n",
    "        (5,4,0,0,6,0,0,8,0),\n",
    "        (0,1,0,9,0,0,0,5,2),\n",
    "        (9,5,0,0,8,2,0,0,6),\n",
    "        (0,0,6,0,0,0,7,0,0),\n",
    "        (3,0,0,5,9,0,0,4,8),\n",
    "        (8,2,0,0,0,4,0,7,0),\n",
    "        (0,3,0,0,2,0,0,6,9),\n",
    "        (0,6,5,1,0,9,0,0,0))\n"
   ]
  },
  {
   "cell_type": "code",
   "execution_count": null,
   "id": "296ee9e3-4647-4d2b-a370-466d7a92cfc4",
   "metadata": {},
   "outputs": [],
   "source": [
    "###############################################################\n",
    "# TODO-09: Add the constraint specifying the given values of  #\n",
    "# the boxes as determined by the given sudoku board           #\n",
    "# configuration.                                              #\n",
    "###############################################################\n",
    "\n",
    "\n",
    "###############################################################\n",
    "#                    End of your code.                        #\n",
    "###############################################################"
   ]
  },
  {
   "cell_type": "markdown",
   "id": "58625048-a3cb-46f9-80b4-a57756cce68b",
   "metadata": {},
   "source": [
    "The code below checks for the satisfiability and displays the found solution."
   ]
  },
  {
   "cell_type": "code",
   "execution_count": null,
   "id": "0fec2167-ecef-462c-88ba-fc96546accb0",
   "metadata": {},
   "outputs": [],
   "source": [
    "assert sudoku_solver.check() == sat, \"The solver didn't find a solution. Double check your constraints.\"\n",
    "for row, _boxes in enumerate(sudoku_boxes):\n",
    "    if row and row % 3 == 0:\n",
    "        print('-'*9+\"|\"+'-'*9+\"|\"+'-'*9)\n",
    "    for col, box in enumerate(_boxes):\n",
    "        if col and col % 3 == 0:\n",
    "            print('|', end='')\n",
    "        print(' {} '.format(sudoku_solver.model()[box]), end='')\n",
    "    print()"
   ]
  },
  {
   "cell_type": "markdown",
   "id": "ade8000b-8b85-4f73-8534-115d230aa2a2",
   "metadata": {
    "jp-MarkdownHeadingCollapsed": true
   },
   "source": [
    "<span style='color:red'>**Question 04:**</span> Discuss the advantages and disadvantages of this approach as compared with a machine learning sudoku solver in terms of scalability on space and time complexity as well as accuracy of the solutions."
   ]
  },
  {
   "cell_type": "markdown",
   "id": "53a3fed2-c1e4-49f3-86d7-0ecfdeef48a4",
   "metadata": {},
   "source": [
    "<span style='color:red'>**A04:**</span>"
   ]
  },
  {
   "cell_type": "code",
   "execution_count": null,
   "id": "cba37057-a973-4068-9010-f4708a0971d2",
   "metadata": {},
   "outputs": [],
   "source": []
  },
  {
   "cell_type": "markdown",
   "id": "cf3a3caa-9c29-486b-a376-118fdb40c009",
   "metadata": {},
   "source": [
    "<span style='color:red'>**Question:**</span> How much time did it take you to answer this notebook?"
   ]
  },
  {
   "cell_type": "markdown",
   "id": "f335c2fd-c0aa-449e-ab5a-b0abdcc1ea49",
   "metadata": {},
   "source": [
    "<span style='color:red'>**A:**</span>"
   ]
  },
  {
   "cell_type": "code",
   "execution_count": null,
   "id": "1968a541-87d2-4de1-b134-e0f03b273d82",
   "metadata": {},
   "outputs": [],
   "source": []
  }
 ],
 "metadata": {
  "kernelspec": {
   "display_name": "base",
   "language": "python",
   "name": "python3"
  },
  "language_info": {
   "codemirror_mode": {
    "name": "ipython",
    "version": 3
   },
   "file_extension": ".py",
   "mimetype": "text/x-python",
   "name": "python",
   "nbconvert_exporter": "python",
   "pygments_lexer": "ipython3",
   "version": "3.12.4"
  }
 },
 "nbformat": 4,
 "nbformat_minor": 5
}
