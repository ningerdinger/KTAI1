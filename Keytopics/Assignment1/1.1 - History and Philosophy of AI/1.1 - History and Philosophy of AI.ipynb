{
 "cells": [
  {
   "cell_type": "markdown",
   "id": "a16008d8-6dfd-4b19-8317-6099092bcdd2",
   "metadata": {},
   "source": [
    "## Instructions\n",
    "* There will be questions embedded in the notebook and a cell for you to provide your answer (denoted with A:). Answer all the markdown/text cells with **\"A: \"** on them. \n",
    "* You may not reproduce this notebook or share them to anyone."
   ]
  },
  {
   "cell_type": "markdown",
   "id": "2ab18139-11f6-45c0-bac7-dcfbcb4fafdf",
   "metadata": {},
   "source": [
    "Place your answers to the questions directly inline on the same cell as **A:**\n",
    "\n",
    "For example:"
   ]
  },
  {
   "cell_type": "markdown",
   "id": "eab5accf-0c81-4b44-afdc-e31819594af9",
   "metadata": {},
   "source": [
    "<span style='color:red'>**Question 00:**</span> What is your favorite ice cream flavor?"
   ]
  },
  {
   "cell_type": "markdown",
   "id": "6190b942-f1fe-49fa-acc5-e7ce3f7563c7",
   "metadata": {},
   "source": [
    "<span style='color:red'>**A00:**</span> My favorite flavor ice cream flavor is pistachio."
   ]
  },
  {
   "cell_type": "markdown",
   "id": "4882c80d-aa34-40db-aa4d-7552df1975a5",
   "metadata": {},
   "source": [
    "# Assignment 1.1 - History and Philosophy Notebook "
   ]
  },
  {
   "cell_type": "markdown",
   "id": "1bc50ae6-15a0-4f54-9977-ad1f7c54ca65",
   "metadata": {},
   "source": [
    "<span style='color:red'>**Question 01:**</span> With the emergence of large languange models (LLMs), many have claimed that the turing test has been beaten. Is this evidence that the LLMs are intelligent? Why or why not? Substantiate your answers / claims with either your own experiments, or evidence from articles you found online. "
   ]
  },
  {
   "cell_type": "markdown",
   "id": "ec570bfa-917d-401c-8b7e-5f5f6e13b3e2",
   "metadata": {},
   "source": [
    "<span style='color:red'>**A01:**</span> \n",
    "According to the internet, the Turing test can be defined as \"a test for intelligence in a computer, requiring that a human being should be unable to distinguish the machine from another human being by using the replies to questions put to both.\"\n",
    "\n",
    "The claim that this test has been beaten arises from the vast amount of generative AI content created in recent years, such as large language models (LLMs) and computer vision. In that sense, I agree that the claim holds some merit, despite the fact that these models also produce answers that are clearly wrong to any observant human being.\n",
    "\n",
    "For example, when I initially asked, \"How many i's are in inconspicuous?\" the initial answer provided by Copilot was accurate, demonstrating the vast capabilities of generative AI. However, by simply asserting that the answer was wrong, Copilot was unable to demonstrate true intelligence and provided an incorrect answer, even though any human with a bit of critical thinking could see that the original answer was accurate. This illustrates that generative AI (and by extension, LLMs) are not truly intelligent. Instead, they mimic human intelligence by predicting accurate responses through learned patterns without any actual understanding behind it.\n",
    "\n",
    "![alt text](Example.jpg \"Test\")\n",
    "\n",
    "In the second example, which was done by someone on the internet, they performed a relatively simple mathematical calculation. The AI was unable to properly execute it, even though a high school student should have no issue in understanding and calculating the results. This again showcases the mimicry abilities of LLMs without demonstrating any actual intelligence or critical thinking associated with it. This was furthermore also mentioned in the lecture, hence why according to Daniel they opted to hook simple math behind an API that does the calculation instead of letting AI prompt it.\n",
    "\n",
    "![alt text](math.jpg \"Test\")"
   ]
  },
  {
   "cell_type": "markdown",
   "id": "8c3fa394-d241-4e3d-9b7c-ed7572143e84",
   "metadata": {},
   "source": [
    "<span style='color:red'>**Question 02:**</span> There's an article written by Dziri et al. entitled \"Faith and Fate: Limits of Transformers on Compositionality\". This paper shows some insights on how LLMs built using transformers operate. Summarize their key findings and relate them to the philosophies (discussed in Learning Unit 1) that this paper provide the most evidence to? Justify your answers. \n",
    "\n",
    "Link to paper: https://arxiv.org/abs/2305.18654"
   ]
  },
  {
   "cell_type": "markdown",
   "id": "dd2e43ad-f78f-4adf-a24c-7ca640dfb536",
   "metadata": {},
   "source": [
    "<span style='color:red'>**A02:**</span>"
   ]
  },
  {
   "cell_type": "markdown",
   "id": "f0fbc92c-66e1-4243-afff-b3e7bf893b27",
   "metadata": {},
   "source": [
    "<span style='color:red'>**Question 03:**</span> Imagine a time in the future where a large language model can correctly answer all questions from a large set of comprehensive benchmarks on various domains and even surpass humans in all the benchmarks. Does it still matter if the LLMs are intelligent or not? Why or why not? Explain your answers. "
   ]
  },
  {
   "cell_type": "markdown",
   "id": "53a36987-b40f-4c0d-8982-55a21742a864",
   "metadata": {},
   "source": [
    "<span style='color:red'>**A03:**</span> It really depends on the situation. If we're just talking about efficiency and practical uses for Gen AI, then whether they're truly intelligent might not matter much. But when it comes to emotional understanding, empathy, creativity, and building relationships, it's a different story. Even if LLMs beat humans in every test, they can't fully replace the human touch and the ability to connect with others."
   ]
  },
  {
   "cell_type": "code",
   "execution_count": null,
   "id": "784426cc-f6a4-4be8-b7fa-3512c7859ea0",
   "metadata": {},
   "outputs": [],
   "source": []
  },
  {
   "cell_type": "markdown",
   "id": "f54a398e-eea9-4f7c-a334-68b3ccc9c1a6",
   "metadata": {},
   "source": [
    "<span style='color:red'>**Question:**</span> How much time did it take you to answer this notebook?"
   ]
  },
  {
   "cell_type": "markdown",
   "id": "0e57af0e-3605-49f8-8130-1045cd87c7e3",
   "metadata": {},
   "source": [
    "<span style='color:red'>**A:**</span> About a hour or two since I wanted to carefully review existing literature in order to properly answer your questions."
   ]
  },
  {
   "cell_type": "code",
   "execution_count": null,
   "id": "cbbaf0e8-d285-4e44-aa5e-aab3a27409a0",
   "metadata": {},
   "outputs": [],
   "source": []
  }
 ],
 "metadata": {
  "kernelspec": {
   "display_name": "Python 3 (ipykernel)",
   "language": "python",
   "name": "python3"
  },
  "language_info": {
   "codemirror_mode": {
    "name": "ipython",
    "version": 3
   },
   "file_extension": ".py",
   "mimetype": "text/x-python",
   "name": "python",
   "nbconvert_exporter": "python",
   "pygments_lexer": "ipython3",
   "version": "3.10.14"
  }
 },
 "nbformat": 4,
 "nbformat_minor": 5
}
