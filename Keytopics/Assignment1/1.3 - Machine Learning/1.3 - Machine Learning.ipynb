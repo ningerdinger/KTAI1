{
 "cells": [
  {
   "cell_type": "markdown",
   "id": "a5474fca-0735-4595-a283-55b0092b12c9",
   "metadata": {},
   "source": [
    "## Instructions\n",
    "* Read each cell and implement the **TODOs** sequentially. The markdown/text cells also contain instructions which you need to follow to get the whole notebook working.\n",
    "* Do not change the variable names unless the instructor allows you to.\n",
    "* Do not delete the **TODO** comment blocks.\n",
    "* Aside from the TODOs, there will be questions embedded in the notebook and a cell for you to provide your answer (denoted with A:). Answer all the markdown/text cells with **\"A: \"** on them. \n",
    "* You are expected to search how to some functions work on the Internet or via the docs. \n",
    "* You may add new cells for \"scrap work\".\n",
    "* The notebooks will undergo a \"Restart and Run All\" command, so make sure that your code is working properly.\n",
    "* You are expected to understand the data set loading and processing separately from this class.\n",
    "* You may not reproduce this notebook or share them to anyone."
   ]
  },
  {
   "cell_type": "markdown",
   "id": "d30a6ee7-bea5-45ed-8197-736e140b849a",
   "metadata": {},
   "source": [
    "Place your answers to the questions directly inline on the same cell as **A:**\n",
    "\n",
    "For example:"
   ]
  },
  {
   "cell_type": "markdown",
   "id": "babd37ef-0edb-41a2-9455-b1f5b7113762",
   "metadata": {},
   "source": [
    "<span style='color:red'>**Question 00:**</span> What is your favorite ice cream flavor?"
   ]
  },
  {
   "cell_type": "markdown",
   "id": "4c438779-8239-437a-a02a-718465ebf6eb",
   "metadata": {},
   "source": [
    "<span style='color:red'>**A00:**</span> My favorite flavor ice cream flavor is pistachio."
   ]
  },
  {
   "cell_type": "markdown",
   "id": "b1e015ca-ac56-4c6b-ab0c-0592c692bb97",
   "metadata": {},
   "source": [
    "# Assignment 1.3 - Machine Learning Notebook \n",
    "In this notebook, you will be experimenting on linear regression and k-means clustering."
   ]
  },
  {
   "cell_type": "markdown",
   "id": "03380d6d-a600-485c-ad55-3c6da7a90f98",
   "metadata": {},
   "source": [
    "# Linear Regression"
   ]
  },
  {
   "cell_type": "code",
   "execution_count": 21,
   "id": "7876ebdb-670f-4d13-ba88-47fdc06f9fbe",
   "metadata": {},
   "outputs": [],
   "source": [
    "# common library imports\n",
    "import pandas as pd\n",
    "import numpy as np\n",
    "from pathlib import Path\n",
    "import matplotlib.pyplot as plt\n",
    "%matplotlib inline"
   ]
  },
  {
   "cell_type": "code",
   "execution_count": 22,
   "id": "97fafc17-882e-4722-b6cc-349343dc8e83",
   "metadata": {},
   "outputs": [],
   "source": [
    "# Fix the seed of the random number \n",
    "# generator so that your results will match ours\n",
    "np.random.seed(1)"
   ]
  },
  {
   "cell_type": "markdown",
   "id": "342f7cb6-d68d-4a08-9fcf-043ff96aa8b2",
   "metadata": {},
   "source": [
    "## Data pre-pocessing"
   ]
  },
  {
   "cell_type": "markdown",
   "id": "5f787279-5863-4ff7-8fa4-c399152eca14",
   "metadata": {},
   "source": [
    "**Dataset:**\n",
    "We will use the sales prices of houses in Kansas City as our dataset. For now, we will only get one feature (living area) to be able to visualize the dataset in a 2D plane. "
   ]
  },
  {
   "cell_type": "code",
   "execution_count": 23,
   "id": "607f5cdb-b5d7-4ecc-93d4-0b19db06ef27",
   "metadata": {},
   "outputs": [
    {
     "data": {
      "text/html": [
       "<div>\n",
       "<style scoped>\n",
       "    .dataframe tbody tr th:only-of-type {\n",
       "        vertical-align: middle;\n",
       "    }\n",
       "\n",
       "    .dataframe tbody tr th {\n",
       "        vertical-align: top;\n",
       "    }\n",
       "\n",
       "    .dataframe thead th {\n",
       "        text-align: right;\n",
       "    }\n",
       "</style>\n",
       "<table border=\"1\" class=\"dataframe\">\n",
       "  <thead>\n",
       "    <tr style=\"text-align: right;\">\n",
       "      <th></th>\n",
       "      <th>home</th>\n",
       "      <th>nbhd</th>\n",
       "      <th>offers</th>\n",
       "      <th>sqft</th>\n",
       "      <th>brick</th>\n",
       "      <th>bedrooms</th>\n",
       "      <th>bathrooms</th>\n",
       "      <th>price</th>\n",
       "    </tr>\n",
       "  </thead>\n",
       "  <tbody>\n",
       "    <tr>\n",
       "      <th>0</th>\n",
       "      <td>1</td>\n",
       "      <td>nbhd02</td>\n",
       "      <td>2</td>\n",
       "      <td>1790</td>\n",
       "      <td>No</td>\n",
       "      <td>2</td>\n",
       "      <td>2</td>\n",
       "      <td>114300</td>\n",
       "    </tr>\n",
       "    <tr>\n",
       "      <th>1</th>\n",
       "      <td>2</td>\n",
       "      <td>nbhd02</td>\n",
       "      <td>3</td>\n",
       "      <td>2030</td>\n",
       "      <td>No</td>\n",
       "      <td>4</td>\n",
       "      <td>2</td>\n",
       "      <td>114200</td>\n",
       "    </tr>\n",
       "    <tr>\n",
       "      <th>2</th>\n",
       "      <td>3</td>\n",
       "      <td>nbhd02</td>\n",
       "      <td>1</td>\n",
       "      <td>1740</td>\n",
       "      <td>No</td>\n",
       "      <td>3</td>\n",
       "      <td>2</td>\n",
       "      <td>114800</td>\n",
       "    </tr>\n",
       "    <tr>\n",
       "      <th>3</th>\n",
       "      <td>4</td>\n",
       "      <td>nbhd02</td>\n",
       "      <td>3</td>\n",
       "      <td>1980</td>\n",
       "      <td>No</td>\n",
       "      <td>3</td>\n",
       "      <td>2</td>\n",
       "      <td>94700</td>\n",
       "    </tr>\n",
       "    <tr>\n",
       "      <th>4</th>\n",
       "      <td>5</td>\n",
       "      <td>nbhd02</td>\n",
       "      <td>3</td>\n",
       "      <td>2130</td>\n",
       "      <td>No</td>\n",
       "      <td>3</td>\n",
       "      <td>3</td>\n",
       "      <td>119800</td>\n",
       "    </tr>\n",
       "  </tbody>\n",
       "</table>\n",
       "</div>"
      ],
      "text/plain": [
       "   home    nbhd  offers  sqft brick  bedrooms  bathrooms   price\n",
       "0     1  nbhd02       2  1790    No         2          2  114300\n",
       "1     2  nbhd02       3  2030    No         4          2  114200\n",
       "2     3  nbhd02       1  1740    No         3          2  114800\n",
       "3     4  nbhd02       3  1980    No         3          2   94700\n",
       "4     5  nbhd02       3  2130    No         3          3  119800"
      ]
     },
     "execution_count": 23,
     "metadata": {},
     "output_type": "execute_result"
    }
   ],
   "source": [
    "house_df = pd.read_csv(\"house.csv\")\n",
    "house_df.head()"
   ]
  },
  {
   "cell_type": "code",
   "execution_count": 24,
   "id": "9d500294-44e4-42c5-aab2-f55f74cda2c2",
   "metadata": {},
   "outputs": [
    {
     "name": "stdout",
     "output_type": "stream",
     "text": [
      "Training data shape: (128,)\n",
      "Ground truth values shape: (128,)\n"
     ]
    }
   ],
   "source": [
    "X = house_df[\"sqft\"].values\n",
    "y = house_df[\"price\"].values\n",
    "\n",
    "print('Training data shape:',X.shape)\n",
    "print('Ground truth values shape:',y.shape)"
   ]
  },
  {
   "cell_type": "markdown",
   "id": "488c22b7-cd03-4ec7-a57e-cce7c1fe56f2",
   "metadata": {},
   "source": [
    "Let's first visualize the data. Make a scatter plot where the x-axis is the living area and the y-axis is the price."
   ]
  },
  {
   "cell_type": "code",
   "execution_count": 25,
   "id": "b8e2ba91-5c87-4668-9cd4-c2627e61ef97",
   "metadata": {},
   "outputs": [
    {
     "data": {
      "image/png": "[encoded data removed]",
      "text/plain": [
       "<Figure size 640x480 with 1 Axes>"
      ]
     },
     "metadata": {},
     "output_type": "display_data"
    }
   ],
   "source": [
    "###############################################################\n",
    "# TODO-01: Make a scatter plot using plt.scatter. Place in an #\n",
    "# x and y label for living area and price.                    #\n",
    "###############################################################\n",
    "plt.scatter(X, y)\n",
    "plt.title(\"House Prices vs. Square Footage\")\n",
    "plt.xlabel(\"Square Footage (sqft)\")\n",
    "plt.ylabel(\"House Price ($)\")\n",
    "plt.show()\n",
    "###############################################################\n",
    "#                    End of your code.                        #\n",
    "###############################################################"
   ]
  },
  {
   "cell_type": "markdown",
   "id": "39362b9e-b017-4af9-acb3-16796d99542c",
   "metadata": {},
   "source": [
    "Looking at the data, there is a linear trend where as the living area increases, the price also increases.\n",
    "\n",
    "Let's fit a linear model to this data.\n",
    "\n",
    "Use the `LinearRegression` model from `scikit-learn`.\n",
    "\n",
    "https://scikit-learn.org/stable/modules/generated/sklearn.linear_model.LinearRegression.html"
   ]
  },
  {
   "cell_type": "code",
   "execution_count": 26,
   "id": "0a210608-d0d1-4915-8d59-17ba4dc901bd",
   "metadata": {},
   "outputs": [],
   "source": [
    "from sklearn.linear_model import LinearRegression"
   ]
  },
  {
   "cell_type": "code",
   "execution_count": null,
   "id": "fe47e9a2-a91e-4109-a88f-b66ee185cfaf",
   "metadata": {},
   "outputs": [
    {
     "name": "stdout",
     "output_type": "stream",
     "text": [
      "Intercept: -10091.12990912312\n",
      "Coefficient: 70.22631824288521\n"
     ]
    }
   ],
   "source": [
    "###############################################################\n",
    "# TODO-02: Create a linear regression model and fit it to the #\n",
    "# data we have.                                               #\n",
    "###############################################################\n",
    "X1 = X.reshape(-1, 1)\n",
    "model = LinearRegression()\n",
    "model.fit(X1, y)\n",
    "\n",
    "# Predict the prices using the model\n",
    "predicted_prices = model.predict(X1)\n",
    "\n",
    "###############################################################\n",
    "#                    End of your code.                        #\n",
    "###############################################################\n"
   ]
  },
  {
   "cell_type": "code",
   "execution_count": 28,
   "id": "f214def0-698e-4dde-a4ca-029e3d2d9f14",
   "metadata": {},
   "outputs": [
    {
     "data": {
      "image/png": "[encoded data removed]",
      "text/plain": [
       "<Figure size 640x480 with 1 Axes>"
      ]
     },
     "metadata": {},
     "output_type": "display_data"
    }
   ],
   "source": [
    "###############################################################\n",
    "# TODO-03: Plot the line learned by the model overlayed on    #\n",
    "# top of the scatter plot of the data. Don't forget to add    #\n",
    "# labels to the axes.                                         #\n",
    "###############################################################\n",
    "plt.scatter(X1, y, label=\"Data points\")\n",
    "plt.plot(X1, predicted_prices, color=\"red\", label=\"Regression line\")\n",
    "plt.title(\"House Prices vs. Square Footage\")\n",
    "plt.xlabel(\"Square Footage (sqft)\")\n",
    "plt.ylabel(\"House Price ($)\")\n",
    "plt.legend()\n",
    "plt.show()\n",
    "\n",
    "###############################################################\n",
    "#                    End of your code.                        #\n",
    "###############################################################"
   ]
  },
  {
   "cell_type": "markdown",
   "id": "9a423d67-7791-419b-9972-d9197be55877",
   "metadata": {},
   "source": [
    "Visualizing the data in a plot like above is a luxury we have only if the data is in 2D. \n",
    "For higher dimensions, we want to compute for metrics that give us some insights into how good the fit is.\n",
    "A common metric is the root mean squared error (RMSE)."
   ]
  },
  {
   "cell_type": "code",
   "execution_count": 29,
   "id": "33f99766-208b-41c1-8f9e-960e454eeb3d",
   "metadata": {},
   "outputs": [],
   "source": [
    "###############################################################\n",
    "# TODO-04: Implement the root mean squared error function.    #\n",
    "###############################################################\n",
    "def compute_rmse(y, y_pred):\n",
    "    pass\n",
    "\n",
    "###############################################################\n",
    "#                    End of your code.                        #\n",
    "###############################################################\n"
   ]
  },
  {
   "cell_type": "code",
   "execution_count": 30,
   "id": "af69239a-ada1-4bae-865b-178b450a87e7",
   "metadata": {},
   "outputs": [
    {
     "ename": "TypeError",
     "evalue": "unsupported format string passed to NoneType.__format__",
     "output_type": "error",
     "traceback": [
      "\u001b[1;31m---------------------------------------------------------------------------\u001b[0m",
      "\u001b[1;31mTypeError\u001b[0m                                 Traceback (most recent call last)",
      "Cell \u001b[1;32mIn[30], line 10\u001b[0m\n\u001b[0;32m      5\u001b[0m rmse \u001b[38;5;241m=\u001b[39m \u001b[38;5;28;01mNone\u001b[39;00m\n\u001b[0;32m      6\u001b[0m \u001b[38;5;66;03m###############################################################\u001b[39;00m\n\u001b[0;32m      7\u001b[0m \u001b[38;5;66;03m#                    End of your code.                        #\u001b[39;00m\n\u001b[0;32m      8\u001b[0m \u001b[38;5;66;03m###############################################################\u001b[39;00m\n\u001b[1;32m---> 10\u001b[0m \u001b[38;5;28mprint\u001b[39m(\u001b[38;5;124m\"\u001b[39m\u001b[38;5;124mRoot mean squared error for the training set: \u001b[39m\u001b[38;5;132;01m{:0.4f}\u001b[39;00m\u001b[38;5;124m\"\u001b[39m\u001b[38;5;241m.\u001b[39mformat(rmse))\n",
      "\u001b[1;31mTypeError\u001b[0m: unsupported format string passed to NoneType.__format__"
     ]
    }
   ],
   "source": [
    "\n",
    "###############################################################\n",
    "# TODO-05: Compute the RMSE of the model predictions on the   #\n",
    "# training set.                                               #\n",
    "###############################################################\n",
    "rmse = None\n",
    "###############################################################\n",
    "#                    End of your code.                        #\n",
    "###############################################################\n",
    "\n",
    "print(\"Root mean squared error for the training set: {:0.4f}\".format(rmse))"
   ]
  },
  {
   "cell_type": "markdown",
   "id": "1d0ab995-1df5-44b7-93ab-f66fea0ff41d",
   "metadata": {},
   "source": [
    "<span style='color:red'>**Question 01:**</span> Based from the visualizations above, if all we have is the feature `sqft`, is there a way to improve the model for this data? Justify your answer. Explain why or why not."
   ]
  },
  {
   "cell_type": "markdown",
   "id": "d84be0a5-8068-4047-986f-0ad8807fca2b",
   "metadata": {},
   "source": [
    "<span style='color:red'>**A01:**</span> "
   ]
  },
  {
   "cell_type": "markdown",
   "id": "33c218fe-d72b-4d4e-85e3-b57cf07cd2ff",
   "metadata": {},
   "source": [
    "<span style='color:red'>**TODO-06:**</span> Experiment on including / excluding the different features available in the dataset and look at their goodness of fit in terms of RMSE. You may add as many cells below as necessary. Note that you may need to do some pre-processing / feature engineering."
   ]
  },
  {
   "cell_type": "code",
   "execution_count": null,
   "id": "84b6d86a-de94-4ccb-a096-41d2722968af",
   "metadata": {},
   "outputs": [],
   "source": []
  },
  {
   "cell_type": "code",
   "execution_count": null,
   "id": "7d8cbdab-3031-4c05-9633-543902d92a11",
   "metadata": {},
   "outputs": [],
   "source": []
  },
  {
   "cell_type": "code",
   "execution_count": null,
   "id": "df033a83-24e5-4028-b426-a54ee9f9f293",
   "metadata": {},
   "outputs": [],
   "source": []
  },
  {
   "cell_type": "markdown",
   "id": "774ffd09-a1b0-44f8-9171-89b59ba1ac6e",
   "metadata": {},
   "source": [
    "<span style='color:red'>**Question 02:**</span> What is the subset of features that achieves the best RMSE?"
   ]
  },
  {
   "cell_type": "markdown",
   "id": "f33da72c-6b4a-47cc-b2cc-933a2a5e3877",
   "metadata": {},
   "source": [
    "<span style='color:red'>**A02:**</span> "
   ]
  },
  {
   "cell_type": "markdown",
   "id": "d1df704f-77c9-498e-9aee-3ac5cc455ed2",
   "metadata": {},
   "source": [
    "### Polynomial Features"
   ]
  },
  {
   "cell_type": "markdown",
   "id": "3445154d-07df-40d5-8b61-db2d23b3ef41",
   "metadata": {},
   "source": [
    "The \"linear\" in linear regression does not mean it could only produce lines. In fact, we can fit polynomial curves using linear regression if we add polynomial features. \n",
    "\n",
    "Let's create a toy example to illustrate this idea. We'll use a simple sine wave and generate some noisy data points from the sine wave."
   ]
  },
  {
   "cell_type": "code",
   "execution_count": null,
   "id": "f4a03acb-a2c3-4a41-ad89-febd61628b86",
   "metadata": {},
   "outputs": [],
   "source": [
    "n_pts = 20\n",
    "np.random.seed(1)\n",
    "X_sin = np.random.uniform(-1.0,1.0, size=(n_pts,1))\n",
    "y_sin = np.sin(6*X_sin.squeeze())  + np.random.randn(n_pts)*0.5\n",
    "plt.scatter(X_sin,y_sin, color=\"orange\", label=\"data\")\n",
    "\n",
    "x_true = np.linspace(-1,1,1000)\n",
    "y_true = np.sin(6*x_true)\n",
    "plt.plot(x_true, y_true, color=\"blue\", label=\"True underlying function\")\n",
    "plt.legend()"
   ]
  },
  {
   "cell_type": "code",
   "execution_count": null,
   "id": "4432687e-a78b-4f7f-90d6-24ef36742f5c",
   "metadata": {},
   "outputs": [],
   "source": [
    "###############################################################\n",
    "# TODO-07: Create a linear regression model and fit it to the #\n",
    "# toy data.                                                   #\n",
    "###############################################################\n",
    "\n",
    "\n",
    "###############################################################\n",
    "#                    End of your code.                        #\n",
    "###############################################################"
   ]
  },
  {
   "cell_type": "code",
   "execution_count": null,
   "id": "bcaa5d1a-9932-479b-8bfd-6719a5e16958",
   "metadata": {},
   "outputs": [],
   "source": [
    "###############################################################\n",
    "# TODO-08: Plot the line learned by the model overlayed on    #\n",
    "# top of the scatter plot of the data. Don't forget to add    #\n",
    "# labels to the axes.                                         #\n",
    "###############################################################\n",
    "\n",
    "\n",
    "###############################################################\n",
    "#                    End of your code.                        #\n",
    "###############################################################"
   ]
  },
  {
   "cell_type": "markdown",
   "id": "9960fbec-efec-44b7-8dab-c7d617744f18",
   "metadata": {},
   "source": [
    "Obviously, fitting a line to a sine wave will never produce a good fit.  \n",
    "\n",
    "To generate curves using linear regression, we need to add polynomial features.\n",
    "\n",
    "Let $x_\\text{sin}$ be your original data. For this toy example, this would only be a 1-dimensional vector. To add polynomial features, we simply append a copy of the features with different orders of exponent. The polynomial order is a hyperparameter that we set, which dictates the highest polynomial order that we will include. For example, the equation below shows polynomial features with an order of 2 and an order of 5.\n",
    "$$x_\\text{poly-2} = [ x_\\text{sin}^0, x_\\text{sin}^1, x_\\text{sin}^2 ]$$  \n",
    "$$x_\\text{poly-5} = [ x_\\text{sin}^0, x_\\text{sin}^1, x_\\text{sin}^2, x_\\text{sin}^3, x_\\text{sin}^4, x_\\text{sin}^5 ]$$  \n"
   ]
  },
  {
   "cell_type": "code",
   "execution_count": null,
   "id": "61443673-9ce2-4821-8d45-b9a113befe16",
   "metadata": {},
   "outputs": [],
   "source": [
    "###############################################################\n",
    "# TODO-09: Implement a function that adds polynomial features #\n",
    "# to the input x matching the specified polynomial order.     #\n",
    "###############################################################\n",
    "def add_polynomial_features(x, order=2):\n",
    "    pass\n",
    "\n",
    "###############################################################\n",
    "#                    End of your code.                        #\n",
    "###############################################################"
   ]
  },
  {
   "cell_type": "markdown",
   "id": "ffc93808-a435-46c8-80bd-4d8a6000325a",
   "metadata": {},
   "source": [
    "After transforming the input to add polynomial features, we can directly train a linear regression model on top of it."
   ]
  },
  {
   "cell_type": "code",
   "execution_count": null,
   "id": "270444af-67ae-4889-9c5a-4155de67f568",
   "metadata": {},
   "outputs": [],
   "source": [
    "###############################################################\n",
    "# TODO-10: Implement a function that first transforms the     #\n",
    "# features and fits a linear regression model on top of       #\n",
    "# the transformed features.                                   #\n",
    "###############################################################\n",
    "\n",
    "def fit_polynomial_regression(model, X,y, order=1):\n",
    "    pass\n",
    "\n",
    "###############################################################\n",
    "#                    End of your code.                        #\n",
    "###############################################################"
   ]
  },
  {
   "cell_type": "code",
   "execution_count": null,
   "id": "ac4f444c-bc6b-4d26-967a-7ae96d3a1353",
   "metadata": {},
   "outputs": [],
   "source": [
    "###############################################################\n",
    "# TODO-11: Implement a function that transforms the new input #\n",
    "# first before performing inference on the trained model.     #\n",
    "###############################################################\n",
    "\n",
    "def predict_polynomial_regression(model,X, order=1):\n",
    "    pass\n",
    "\n",
    "###############################################################\n",
    "#                    End of your code.                        #\n",
    "###############################################################"
   ]
  },
  {
   "cell_type": "markdown",
   "id": "e983cc53-f1eb-4d11-aa03-6a0018f89839",
   "metadata": {},
   "source": [
    "The code below fits a polynomial regression model and plots the learned polynomial curve."
   ]
  },
  {
   "cell_type": "code",
   "execution_count": null,
   "id": "84273bc3-f4ef-4614-aa21-7bc5dc2310dc",
   "metadata": {},
   "outputs": [],
   "source": [
    "poly_order = 5\n",
    "\n",
    "reg_model = fit_polynomial_regression(LinearRegression(),X_sin,y_sin, order=poly_order)\n",
    "\n",
    "X_test = np.linspace(-1.0,1.0, 100)[:,None]\n",
    "y_preds = predict_polynomial_regression(reg_model, X_test, order=poly_order)\n",
    "\n",
    "plt.plot(X_test,y_preds)\n",
    "plt.scatter(X_sin,y_sin, color=\"orange\")\n",
    "plt.ylim([-2,2])"
   ]
  },
  {
   "cell_type": "markdown",
   "id": "397f1d99-93c6-4f08-8ea0-77fa1dfd1357",
   "metadata": {},
   "source": [
    "Let's vary the hyperparameter polynomial order and see what the effects are as the order increases."
   ]
  },
  {
   "cell_type": "code",
   "execution_count": null,
   "id": "452c6264-0d3c-4ba9-8d66-e58baac410a0",
   "metadata": {},
   "outputs": [],
   "source": [
    "X_test = np.linspace(-1.0,1.0, 100)[:,None]\n",
    "plt.figure(figsize=(10,12))\n",
    "for i in range(9):\n",
    "    poly_order = 2*i + 1\n",
    "    reg_model = fit_polynomial_regression(LinearRegression(),X_sin,y_sin, order=poly_order)\n",
    "    y_preds = predict_polynomial_regression(reg_model, X_test, order=poly_order)\n",
    "    plt.subplot(3,3,i+1)\n",
    "    plt.plot(X_test,y_preds)\n",
    "    plt.scatter(X_sin,y_sin, color=\"orange\")\n",
    "    plt.ylim([-2,2])\n",
    "    plt.title(\"Poly order = {}\".format(poly_order))"
   ]
  },
  {
   "cell_type": "markdown",
   "id": "f4256109-703f-4a09-a380-a96fd49daad8",
   "metadata": {},
   "source": [
    "As the polynomial order increase, we start to see that the model is overfitting. But what happens if we have more data?"
   ]
  },
  {
   "cell_type": "markdown",
   "id": "ff45f6f8-e5ee-4894-b65d-5a450f495e9c",
   "metadata": {},
   "source": [
    "<span style='color:red'>**TODO-12:**</span> Using the same sine wave function used above, generate 1000 points instead of the 20 points used above. Repeat the same experiment where you fit polynomials of varying order and plot the results.\n",
    "\n",
    "You can add as many cells as necessary below."
   ]
  },
  {
   "cell_type": "code",
   "execution_count": null,
   "id": "273880e6-4772-47ec-bcc3-8498cf21d518",
   "metadata": {},
   "outputs": [],
   "source": []
  },
  {
   "cell_type": "code",
   "execution_count": null,
   "id": "e3afbcd2-a679-4eca-a219-663ef32b5d33",
   "metadata": {},
   "outputs": [],
   "source": []
  },
  {
   "cell_type": "code",
   "execution_count": null,
   "id": "5f57742e-9bb1-4fbb-b6ea-fb4e491e7f54",
   "metadata": {},
   "outputs": [],
   "source": []
  },
  {
   "cell_type": "code",
   "execution_count": null,
   "id": "dda46f1d-84de-481d-8615-31eaba31e288",
   "metadata": {},
   "outputs": [],
   "source": []
  },
  {
   "cell_type": "markdown",
   "id": "770f3d45-e4be-4dad-a962-476c8e962809",
   "metadata": {},
   "source": [
    "<span style='color:red'>**Question 03:**</span> Based on your experiments above, what can you say about about the behavior of overfitting in relation to the polynomial order and dataset size?"
   ]
  },
  {
   "cell_type": "markdown",
   "id": "4a1cf7a2-81d1-49e8-a22e-0be1553a8efa",
   "metadata": {},
   "source": [
    "<span style='color:red'>**A03:**</span>"
   ]
  },
  {
   "cell_type": "markdown",
   "id": "d797e87c-d35f-484e-920c-e1000788b52b",
   "metadata": {},
   "source": [
    "One possibility in combatting overfitting is to regularize the model. For linear regression, there is a well known variant called ridge regression which penalizes large weights. \n",
    "\n",
    "https://scikit-learn.org/stable/modules/generated/sklearn.linear_model.Ridge.html"
   ]
  },
  {
   "cell_type": "markdown",
   "id": "cf23c0b2-826a-4d3f-9239-ac138f8b3df0",
   "metadata": {},
   "source": [
    "<span style='color:red'>**TODO-13:**</span> Repeat the experiment above on the sine wave toy dataset with only 20 points, and plot the learned curves as the polynomial order increases.\n",
    "\n",
    "You can add as many cells as necessary below."
   ]
  },
  {
   "cell_type": "code",
   "execution_count": null,
   "id": "7fa81426-4259-45e7-9fbf-17a271a4d92e",
   "metadata": {},
   "outputs": [],
   "source": [
    "from sklearn.linear_model import Ridge"
   ]
  },
  {
   "cell_type": "code",
   "execution_count": null,
   "id": "ad2d23e2-be59-4d36-80e0-e16694029d4a",
   "metadata": {},
   "outputs": [],
   "source": []
  },
  {
   "cell_type": "code",
   "execution_count": null,
   "id": "3f3b7569-ab09-440d-8266-1accb1b490a8",
   "metadata": {},
   "outputs": [],
   "source": []
  },
  {
   "cell_type": "code",
   "execution_count": null,
   "id": "92abc78d-15b7-4010-ad36-7b432c25cd9d",
   "metadata": {},
   "outputs": [],
   "source": []
  },
  {
   "cell_type": "markdown",
   "id": "72e32b80-78b3-442f-b1e6-ce825f9ef47a",
   "metadata": {},
   "source": [
    "# Unsupervised Learning (k-Means Clustering)"
   ]
  },
  {
   "cell_type": "code",
   "execution_count": null,
   "id": "dc23fd88-6c2e-4f91-8fde-17da3ce65614",
   "metadata": {},
   "outputs": [],
   "source": [
    "from sklearn.cluster import KMeans\n",
    "import sklearn.metrics as metrics\n",
    "from sklearn.datasets import make_blobs"
   ]
  },
  {
   "cell_type": "markdown",
   "id": "b993631f-e6c7-4aeb-af4e-0871c0bc0c1d",
   "metadata": {},
   "source": [
    "Let's create toy datasets with varying number of clusters (3, 5, 10, 15, 25)."
   ]
  },
  {
   "cell_type": "code",
   "execution_count": null,
   "id": "67d5e21d-a96f-48d7-8a66-c2524386199b",
   "metadata": {},
   "outputs": [],
   "source": [
    "dummy_data = {}\n",
    "n_clusters = [3, 5, 10, 15, 25]\n",
    "np.random.seed(1)\n",
    "for n_cluster in n_clusters:\n",
    "    X, y = make_blobs(n_samples=1000, centers=n_cluster, n_features=2,cluster_std=1,center_box=(-50,50))\n",
    "    dummy_data[n_cluster] = {\"X\":X, \"y\":y}"
   ]
  },
  {
   "cell_type": "code",
   "execution_count": null,
   "id": "4b7a7566-feab-40d6-be4f-f9ed7dc496d4",
   "metadata": {},
   "outputs": [],
   "source": [
    "plt.figure(figsize=(10,2))\n",
    "for i, n_cluster in enumerate(n_clusters):\n",
    "    plt.subplot(1,len(n_clusters),i+1)\n",
    "    # plot each cluster with a different color\n",
    "    X_blob = dummy_data[n_cluster][\"X\"]\n",
    "    y_blob = dummy_data[n_cluster][\"y\"]\n",
    "    plt.scatter(X_blob[:,0],X_blob[:,1],c=y_blob)\n",
    "    plt.tick_params(left = False, right = False , labelleft = False, labelbottom = False, bottom = False) \n",
    "    plt.title(\"Clusters = {}\".format(n_cluster))"
   ]
  },
  {
   "cell_type": "markdown",
   "id": "a41c353b-5e7e-4aef-8a89-49641228daa3",
   "metadata": {},
   "source": [
    "To perform $k$-Means clustering, we need to set the hyperparameter $k$. This is our guess as to how many clusters there in your data."
   ]
  },
  {
   "cell_type": "markdown",
   "id": "5f5e0349-e5c8-45d6-908b-f40748f5be84",
   "metadata": {},
   "source": [
    "However, in many cases, we do not know what $k$ should be.\n",
    "As mentioned above, we only have the luxury of visualizing the data points (and the clustering behavior) if the data lies in 2D (or 3D). But in many real world cases, we have to rely on statistics or some metrics to capture some properties of your data."
   ]
  },
  {
   "cell_type": "markdown",
   "id": "ea677fa6-b98a-44f5-99ec-f99965d265e4",
   "metadata": {},
   "source": [
    "One of the earliest approaches that tried to determine the value of $k$ was to use the inertia, which is defined as the sum of squared distances of the data points to their closest cluster center. People would plot the intertia and look for the knee of the curve (or elbow of the curve). This is the point where the curve visibly bends from high slope to low slope. "
   ]
  },
  {
   "cell_type": "markdown",
   "id": "5a405ed1-b770-4619-9cfa-8d6c39df805b",
   "metadata": {},
   "source": [
    "In this notebook, you will investigate the performance of this method and compare it against more recent clustering metrics:\n",
    "\n",
    "- Calinski and Harabasz score (https://scikit-learn.org/stable/modules/generated/sklearn.metrics.calinski_harabasz_score.html#sklearn.metrics.calinski_harabasz_score)\n",
    "- Davies-Bouldin score (https://scikit-learn.org/stable/modules/generated/sklearn.metrics.davies_bouldin_score.html#sklearn.metrics.davies_bouldin_score)\n",
    "- Silhouette score (https://scikit-learn.org/stable/modules/generated/sklearn.metrics.silhouette_score.html#sklearn.metrics.silhouette_score)"
   ]
  },
  {
   "cell_type": "markdown",
   "id": "9d8b0f12-1f64-41ef-9c2d-fd76255133ad",
   "metadata": {},
   "source": [
    "<span style='color:red'>**TODO-14:**</span> Given the 5 toy datasets above wth different number of clusters, use $k$-Means clustering to cluster each of the toy datasets. Perform clustering with varying values of $k$ from 2 to 25 and plot the inertia for each value of $k$. You can get the inertia from the `intertia_` property of the k-Means model (as documented in https://scikit-learn.org/stable/modules/generated/sklearn.cluster.KMeans.html)\n",
    "\n",
    "Use the `KneeLocator` from the `kneed` library to determine the knee or elbow of the intertia curve. (https://kneed.readthedocs.io/en/stable/parameters.html)\n",
    "\n",
    "You should generate 2 plots corresponding to the visualized clusters (colored scatter plot) and the inertia curves for each of the toy datasets (total of 10 plots ==> 5 datasets x 2 plots each). Visualize the knee or elbow point using `axvline`. Don't forget to label the plots.\n",
    "\n",
    "https://matplotlib.org/stable/api/_as_gen/matplotlib.pyplot.axvline.html\n",
    "\n",
    "You can add as many cells as necessary below."
   ]
  },
  {
   "cell_type": "code",
   "execution_count": null,
   "id": "02430a50-0373-490e-a3a0-ad22c487e2f2",
   "metadata": {},
   "outputs": [],
   "source": [
    "from kneed import KneeLocator"
   ]
  },
  {
   "cell_type": "markdown",
   "id": "fcf3f165-f684-44e4-8ee6-5a009b17f69f",
   "metadata": {},
   "source": []
  },
  {
   "cell_type": "code",
   "execution_count": null,
   "id": "fe4e985a-2d0c-4271-b1d1-4af95abbd590",
   "metadata": {},
   "outputs": [],
   "source": []
  },
  {
   "cell_type": "markdown",
   "id": "d232bef3-8c2e-4a75-878d-686fceb9ef15",
   "metadata": {},
   "source": [
    "<span style='color:red'>**TODO-15:**</span> Repeat the same experiment / plots but this time using the three other metrics:\n",
    "- Calinski and Harabasz score (https://scikit-learn.org/stable/modules/generated/sklearn.metrics.calinski_harabasz_score.html#sklearn.metrics.calinski_harabasz_score)\n",
    "- Davies-Bouldin score (https://scikit-learn.org/stable/modules/generated/sklearn.metrics.davies_bouldin_score.html#sklearn.metrics.davies_bouldin_score)\n",
    "- Silhouette score (https://scikit-learn.org/stable/modules/generated/sklearn.metrics.silhouette_score.html#sklearn.metrics.silhouette_score)\n",
    "\n",
    "Note that for these metrics there is no need to locate for the knee or elbow because there will be a clear max (or min) score for these metrics, which will indicate the best guess for $k$.\n",
    "\n",
    "Particularly:\n",
    "- Calinski and Harabasz score (higher is better)\n",
    "- Davies-Bouldin score (lower is better)\n",
    "- Silhouette score (higher is better)\n",
    "\n",
    "You can add as many cells as necessary below."
   ]
  },
  {
   "cell_type": "code",
   "execution_count": null,
   "id": "3ea037d1-5efd-4d04-a3cd-e649ab212537",
   "metadata": {},
   "outputs": [],
   "source": []
  },
  {
   "cell_type": "code",
   "execution_count": null,
   "id": "9becff7c-b32d-49e8-a315-b0bbd7b39740",
   "metadata": {},
   "outputs": [],
   "source": []
  },
  {
   "cell_type": "code",
   "execution_count": null,
   "id": "4e5f6b47-1768-4cab-b762-acb6e0e6c66b",
   "metadata": {},
   "outputs": [],
   "source": []
  },
  {
   "cell_type": "code",
   "execution_count": null,
   "id": "534bc960-358c-48d9-8171-ff621dee593d",
   "metadata": {},
   "outputs": [],
   "source": []
  },
  {
   "cell_type": "code",
   "execution_count": null,
   "id": "241a6325-1556-43af-a708-3d8c9045f50a",
   "metadata": {},
   "outputs": [],
   "source": []
  },
  {
   "cell_type": "markdown",
   "id": "0f1cba54-3dd6-4d2c-ba3b-bd4bb33886ac",
   "metadata": {},
   "source": [
    "<span style='color:red'>**Question 04:**</span> Based on your experiments, which one had the best guess for $k$ over all the toy datasets?"
   ]
  },
  {
   "cell_type": "markdown",
   "id": "f6d8addf-0b5b-45df-b402-1f8abc37e5c9",
   "metadata": {},
   "source": [
    "<span style='color:red'>**A04:**</span>"
   ]
  },
  {
   "cell_type": "markdown",
   "id": "f0b8a14b-1086-4b95-a321-f27fbb198ae5",
   "metadata": {},
   "source": [
    "<span style='color:red'>**Question 05:**</span> Looking at the visualizations of the predicted clusters for each of the metrics (only for the toy data clusters=25), are the mistakes reasonable? Why or why not?"
   ]
  },
  {
   "cell_type": "markdown",
   "id": "b03e53ec-2c61-4523-a2cc-168fc36357b8",
   "metadata": {},
   "source": [
    "<span style='color:red'>**A05:**</span>"
   ]
  },
  {
   "cell_type": "code",
   "execution_count": null,
   "id": "7ae30e4f-f77e-4c2f-a11d-8dc2d84d7499",
   "metadata": {},
   "outputs": [],
   "source": []
  },
  {
   "cell_type": "markdown",
   "id": "d6cbb921-2daf-4806-96dc-4e5ca1046a2d",
   "metadata": {},
   "source": [
    "<span style='color:red'>**Question:**</span> How much time did it take you to answer this notebook?"
   ]
  },
  {
   "cell_type": "markdown",
   "id": "feb8fe89-a8a8-4b39-beaf-d61a5882a196",
   "metadata": {},
   "source": [
    "<span style='color:red'>**A:**</span>"
   ]
  },
  {
   "cell_type": "code",
   "execution_count": null,
   "id": "00194553-72e8-4483-a9ac-ff5b1859f1d7",
   "metadata": {},
   "outputs": [],
   "source": []
  }
 ],
 "metadata": {
  "kernelspec": {
   "display_name": "base",
   "language": "python",
   "name": "python3"
  },
  "language_info": {
   "codemirror_mode": {
    "name": "ipython",
    "version": 3
   },
   "file_extension": ".py",
   "mimetype": "text/x-python",
   "name": "python",
   "nbconvert_exporter": "python",
   "pygments_lexer": "ipython3",
   "version": "3.12.4"
  }
 },
 "nbformat": 4,
 "nbformat_minor": 5
}
